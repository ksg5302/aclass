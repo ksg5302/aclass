{
 "cells": [
  {
   "cell_type": "markdown",
   "metadata": {},
   "source": [
    "# 함수\n",
    "## 실습01"
   ]
  },
  {
   "cell_type": "code",
   "execution_count": 3,
   "metadata": {},
   "outputs": [
    {
     "name": "stdout",
     "output_type": "stream",
     "text": [
      "[0, 3, 6]\n"
     ]
    }
   ],
   "source": [
    "lis = [1,2,3,1,4,2,1]\n",
    "\n",
    "def allindex(user_list, num):\n",
    "    a = [i for i in range(len(user_list)) if user_list[i] == num]\n",
    "    print(a)\n",
    "\n",
    "allindex(lis,1)"
   ]
  },
  {
   "cell_type": "code",
   "execution_count": null,
   "metadata": {},
   "outputs": [],
   "source": []
  },
  {
   "cell_type": "code",
   "execution_count": 5,
   "metadata": {},
   "outputs": [
    {
     "name": "stdout",
     "output_type": "stream",
     "text": [
      "이메일 :  aa@naver.com\n",
      "이름 :  Tom\n"
     ]
    }
   ],
   "source": [
    "def func(email, name):\n",
    "    print('이메일 : ', email)\n",
    "    print('이름 : ',name)\n",
    "    \n",
    "func('aa@naver.com','Tom')"
   ]
  },
  {
   "cell_type": "code",
   "execution_count": 7,
   "metadata": {},
   "outputs": [
    {
     "name": "stdout",
     "output_type": "stream",
     "text": [
      "이메일 :  aa@ssdd.com\n",
      "이름 :  tom\n"
     ]
    }
   ],
   "source": [
    "d ={\"name\":\"tom\",\"email\":\"aa@ssdd.com\"}\n",
    "\n",
    "func(**d)"
   ]
  },
  {
   "cell_type": "code",
   "execution_count": 10,
   "metadata": {},
   "outputs": [
    {
     "name": "stdout",
     "output_type": "stream",
     "text": [
      "11\n",
      "120\n"
     ]
    }
   ],
   "source": [
    "def calc(x, *args):\n",
    "    num=0\n",
    "    if x == \"+\":\n",
    "        num = args[0]\n",
    "        for i in range(1,len(args)):\n",
    "             num += args[i]\n",
    "    elif x ==\"*\":\n",
    "        num = args[0]\n",
    "        for i in range(1,len(args)):\n",
    "            num*=args[i];\n",
    "    print(num)\n",
    "\n",
    "calc(\"+\",1,2,3,5)\n",
    "calc(\"*\",1,2,3,4,5)"
   ]
  },
  {
   "cell_type": "code",
   "execution_count": null,
   "metadata": {},
   "outputs": [],
   "source": []
  }
 ],
 "metadata": {
  "kernelspec": {
   "display_name": "Python 3",
   "language": "python",
   "name": "python3"
  },
  "language_info": {
   "codemirror_mode": {
    "name": "ipython",
    "version": 3
   },
   "file_extension": ".py",
   "mimetype": "text/x-python",
   "name": "python",
   "nbconvert_exporter": "python",
   "pygments_lexer": "ipython3",
   "version": "3.7.9"
  }
 },
 "nbformat": 4,
 "nbformat_minor": 4
}
