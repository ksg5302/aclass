{
 "cells": [
  {
   "cell_type": "markdown",
   "metadata": {},
   "source": [
    "## 실습02"
   ]
  },
  {
   "cell_type": "code",
   "execution_count": null,
   "metadata": {},
   "outputs": [],
   "source": [
    "import numpy as np\n",
    "import pandas as pd"
   ]
  },
  {
   "cell_type": "code",
   "execution_count": 188,
   "metadata": {},
   "outputs": [],
   "source": [
    "df = pd.DataFrame(np.random.randint(1, 100, size=(15, 3)),\n",
    "index=[['1학년','1학년','1학년','1학년','1학년','2학년','2학년','2학년','2학년','2학년','3학년','3학년','3학년','3학년','3학년'],\n",
    "['1반','2반','3반','4반','5반','1반','2반','3반','4반','5반','1반','2반','3반','4반','5반']],\n",
    "columns=['국어','영어','과학'])"
   ]
  },
  {
   "cell_type": "code",
   "execution_count": 158,
   "metadata": {},
   "outputs": [],
   "source": [
    "df['총점'] = df['국어'] + df['영어'] + df['과학']"
   ]
  },
  {
   "cell_type": "code",
   "execution_count": 160,
   "metadata": {},
   "outputs": [],
   "source": [
    "df[\"평균\"] = df['총점'] / 3"
   ]
  },
  {
   "cell_type": "code",
   "execution_count": 172,
   "metadata": {},
   "outputs": [
    {
     "data": {
      "text/html": [
       "<div>\n",
       "<style scoped>\n",
       "    .dataframe tbody tr th:only-of-type {\n",
       "        vertical-align: middle;\n",
       "    }\n",
       "\n",
       "    .dataframe tbody tr th {\n",
       "        vertical-align: top;\n",
       "    }\n",
       "\n",
       "    .dataframe thead th {\n",
       "        text-align: right;\n",
       "    }\n",
       "</style>\n",
       "<table border=\"1\" class=\"dataframe\">\n",
       "  <thead>\n",
       "    <tr style=\"text-align: right;\">\n",
       "      <th></th>\n",
       "      <th></th>\n",
       "      <th>국어</th>\n",
       "      <th>영어</th>\n",
       "      <th>과학</th>\n",
       "      <th>총점</th>\n",
       "      <th>평균</th>\n",
       "    </tr>\n",
       "  </thead>\n",
       "  <tbody>\n",
       "    <tr>\n",
       "      <th rowspan=\"5\" valign=\"top\">1학년</th>\n",
       "      <th>1반</th>\n",
       "      <td>42</td>\n",
       "      <td>94</td>\n",
       "      <td>12</td>\n",
       "      <td>148</td>\n",
       "      <td>49.333333</td>\n",
       "    </tr>\n",
       "    <tr>\n",
       "      <th>2반</th>\n",
       "      <td>63</td>\n",
       "      <td>94</td>\n",
       "      <td>78</td>\n",
       "      <td>235</td>\n",
       "      <td>78.333333</td>\n",
       "    </tr>\n",
       "    <tr>\n",
       "      <th>3반</th>\n",
       "      <td>91</td>\n",
       "      <td>64</td>\n",
       "      <td>82</td>\n",
       "      <td>237</td>\n",
       "      <td>79.000000</td>\n",
       "    </tr>\n",
       "    <tr>\n",
       "      <th>4반</th>\n",
       "      <td>25</td>\n",
       "      <td>56</td>\n",
       "      <td>19</td>\n",
       "      <td>100</td>\n",
       "      <td>33.333333</td>\n",
       "    </tr>\n",
       "    <tr>\n",
       "      <th>5반</th>\n",
       "      <td>49</td>\n",
       "      <td>58</td>\n",
       "      <td>9</td>\n",
       "      <td>116</td>\n",
       "      <td>38.666667</td>\n",
       "    </tr>\n",
       "    <tr>\n",
       "      <th rowspan=\"5\" valign=\"top\">2학년</th>\n",
       "      <th>1반</th>\n",
       "      <td>46</td>\n",
       "      <td>94</td>\n",
       "      <td>90</td>\n",
       "      <td>230</td>\n",
       "      <td>76.666667</td>\n",
       "    </tr>\n",
       "    <tr>\n",
       "      <th>2반</th>\n",
       "      <td>42</td>\n",
       "      <td>17</td>\n",
       "      <td>76</td>\n",
       "      <td>135</td>\n",
       "      <td>45.000000</td>\n",
       "    </tr>\n",
       "    <tr>\n",
       "      <th>3반</th>\n",
       "      <td>96</td>\n",
       "      <td>74</td>\n",
       "      <td>30</td>\n",
       "      <td>200</td>\n",
       "      <td>66.666667</td>\n",
       "    </tr>\n",
       "    <tr>\n",
       "      <th>4반</th>\n",
       "      <td>14</td>\n",
       "      <td>60</td>\n",
       "      <td>70</td>\n",
       "      <td>144</td>\n",
       "      <td>48.000000</td>\n",
       "    </tr>\n",
       "    <tr>\n",
       "      <th>5반</th>\n",
       "      <td>9</td>\n",
       "      <td>91</td>\n",
       "      <td>39</td>\n",
       "      <td>139</td>\n",
       "      <td>46.333333</td>\n",
       "    </tr>\n",
       "    <tr>\n",
       "      <th rowspan=\"5\" valign=\"top\">3학년</th>\n",
       "      <th>1반</th>\n",
       "      <td>29</td>\n",
       "      <td>66</td>\n",
       "      <td>4</td>\n",
       "      <td>99</td>\n",
       "      <td>33.000000</td>\n",
       "    </tr>\n",
       "    <tr>\n",
       "      <th>2반</th>\n",
       "      <td>5</td>\n",
       "      <td>19</td>\n",
       "      <td>41</td>\n",
       "      <td>65</td>\n",
       "      <td>21.666667</td>\n",
       "    </tr>\n",
       "    <tr>\n",
       "      <th>3반</th>\n",
       "      <td>10</td>\n",
       "      <td>82</td>\n",
       "      <td>19</td>\n",
       "      <td>111</td>\n",
       "      <td>37.000000</td>\n",
       "    </tr>\n",
       "    <tr>\n",
       "      <th>4반</th>\n",
       "      <td>9</td>\n",
       "      <td>63</td>\n",
       "      <td>32</td>\n",
       "      <td>104</td>\n",
       "      <td>34.666667</td>\n",
       "    </tr>\n",
       "    <tr>\n",
       "      <th>5반</th>\n",
       "      <td>43</td>\n",
       "      <td>81</td>\n",
       "      <td>93</td>\n",
       "      <td>217</td>\n",
       "      <td>72.333333</td>\n",
       "    </tr>\n",
       "  </tbody>\n",
       "</table>\n",
       "</div>"
      ],
      "text/plain": [
       "        국어  영어  과학   총점         평균\n",
       "1학년 1반  42  94  12  148  49.333333\n",
       "    2반  63  94  78  235  78.333333\n",
       "    3반  91  64  82  237  79.000000\n",
       "    4반  25  56  19  100  33.333333\n",
       "    5반  49  58   9  116  38.666667\n",
       "2학년 1반  46  94  90  230  76.666667\n",
       "    2반  42  17  76  135  45.000000\n",
       "    3반  96  74  30  200  66.666667\n",
       "    4반  14  60  70  144  48.000000\n",
       "    5반   9  91  39  139  46.333333\n",
       "3학년 1반  29  66   4   99  33.000000\n",
       "    2반   5  19  41   65  21.666667\n",
       "    3반  10  82  19  111  37.000000\n",
       "    4반   9  63  32  104  34.666667\n",
       "    5반  43  81  93  217  72.333333"
      ]
     },
     "execution_count": 172,
     "metadata": {},
     "output_type": "execute_result"
    }
   ],
   "source": [
    "df"
   ]
  },
  {
   "cell_type": "code",
   "execution_count": 175,
   "metadata": {},
   "outputs": [],
   "source": [
    "df_index = df\n",
    "df_index.index.names=['학년','반']"
   ]
  },
  {
   "cell_type": "code",
   "execution_count": 182,
   "metadata": {},
   "outputs": [],
   "source": [
    "df_index = df_index.groupby('학년').sum()"
   ]
  },
  {
   "cell_type": "code",
   "execution_count": 186,
   "metadata": {
    "scrolled": true
   },
   "outputs": [
    {
     "data": {
      "text/html": [
       "<div>\n",
       "<style scoped>\n",
       "    .dataframe tbody tr th:only-of-type {\n",
       "        vertical-align: middle;\n",
       "    }\n",
       "\n",
       "    .dataframe tbody tr th {\n",
       "        vertical-align: top;\n",
       "    }\n",
       "\n",
       "    .dataframe thead th {\n",
       "        text-align: right;\n",
       "    }\n",
       "</style>\n",
       "<table border=\"1\" class=\"dataframe\">\n",
       "  <thead>\n",
       "    <tr style=\"text-align: right;\">\n",
       "      <th></th>\n",
       "      <th>국어</th>\n",
       "      <th>영어</th>\n",
       "      <th>과학</th>\n",
       "      <th>총점</th>\n",
       "      <th>평균</th>\n",
       "    </tr>\n",
       "    <tr>\n",
       "      <th>학년</th>\n",
       "      <th></th>\n",
       "      <th></th>\n",
       "      <th></th>\n",
       "      <th></th>\n",
       "      <th></th>\n",
       "    </tr>\n",
       "  </thead>\n",
       "  <tbody>\n",
       "    <tr>\n",
       "      <th>1학년</th>\n",
       "      <td>270</td>\n",
       "      <td>366</td>\n",
       "      <td>200</td>\n",
       "      <td>836</td>\n",
       "      <td>55.733333</td>\n",
       "    </tr>\n",
       "    <tr>\n",
       "      <th>2학년</th>\n",
       "      <td>207</td>\n",
       "      <td>336</td>\n",
       "      <td>305</td>\n",
       "      <td>848</td>\n",
       "      <td>56.533333</td>\n",
       "    </tr>\n",
       "    <tr>\n",
       "      <th>3학년</th>\n",
       "      <td>96</td>\n",
       "      <td>311</td>\n",
       "      <td>189</td>\n",
       "      <td>596</td>\n",
       "      <td>39.733333</td>\n",
       "    </tr>\n",
       "  </tbody>\n",
       "</table>\n",
       "</div>"
      ],
      "text/plain": [
       "      국어   영어   과학   총점         평균\n",
       "학년                                \n",
       "1학년  270  366  200  836  55.733333\n",
       "2학년  207  336  305  848  56.533333\n",
       "3학년   96  311  189  596  39.733333"
      ]
     },
     "execution_count": 186,
     "metadata": {},
     "output_type": "execute_result"
    }
   ],
   "source": [
    "df_index['평균'] = df_index['평균']/5\n",
    "df_index"
   ]
  },
  {
   "cell_type": "markdown",
   "metadata": {},
   "source": [
    "## 실습03"
   ]
  },
  {
   "cell_type": "code",
   "execution_count": 297,
   "metadata": {},
   "outputs": [],
   "source": [
    "#df 선언\n",
    "df_titanic = pd.read_csv('titanic_train.csv')"
   ]
  },
  {
   "cell_type": "markdown",
   "metadata": {},
   "source": [
    "### 실습 03-1 결측지처리를해주세요.(age-평균값적용,Cabin-N으로,Embarked-N)"
   ]
  },
  {
   "cell_type": "code",
   "execution_count": 299,
   "metadata": {},
   "outputs": [],
   "source": [
    "df_titanic['Age'] = df_titanic['Age'].fillna(df_titanic['Age'].mean())\n",
    "df_titanic['Cabin'] = df_titanic['Cabin'].fillna('N')\n",
    "df_titanic['Embarked'] = df_titanic['Embarked'].fillna('N')"
   ]
  },
  {
   "cell_type": "markdown",
   "metadata": {},
   "source": [
    "### 실습03-2 성별(Sex)생존자합을구해주세요"
   ]
  },
  {
   "cell_type": "code",
   "execution_count": 300,
   "metadata": {},
   "outputs": [
    {
     "data": {
      "text/plain": [
       "Sex\n",
       "female    233\n",
       "male      109\n",
       "Name: Survived, dtype: int64"
      ]
     },
     "execution_count": 300,
     "metadata": {},
     "output_type": "execute_result"
    }
   ],
   "source": [
    "df_titanic.groupby('Sex').sum()['Survived']"
   ]
  },
  {
   "cell_type": "markdown",
   "metadata": {},
   "source": [
    "### 실습03-3 클래스(Pclass)별생존자합을구해주세요"
   ]
  },
  {
   "cell_type": "code",
   "execution_count": 301,
   "metadata": {},
   "outputs": [
    {
     "data": {
      "text/plain": [
       "Pclass\n",
       "1    136\n",
       "2     87\n",
       "3    119\n",
       "Name: Survived, dtype: int64"
      ]
     },
     "execution_count": 301,
     "metadata": {},
     "output_type": "execute_result"
    }
   ],
   "source": [
    "df_titanic.groupby('Pclass').sum()['Survived']"
   ]
  },
  {
   "cell_type": "markdown",
   "metadata": {},
   "source": [
    "### 실습03-4 나이(Age)를활용유아,10대,20대,30대,40대,50대,60대,노인의생존자합을구해주세요."
   ]
  },
  {
   "cell_type": "code",
   "execution_count": 305,
   "metadata": {},
   "outputs": [
    {
     "data": {
      "text/plain": [
       "Ages\n",
       "10대    0.401961\n",
       "20대    0.324937\n",
       "30대    0.437126\n",
       "40대    0.382022\n",
       "50대    0.416667\n",
       "60대    0.315789\n",
       "노인     0.142857\n",
       "유아     0.612903\n",
       "Name: Survived, dtype: float64"
      ]
     },
     "execution_count": 305,
     "metadata": {},
     "output_type": "execute_result"
    }
   ],
   "source": [
    "conlist = [(df_titanic['Age']<10),\n",
    "((df_titanic['Age']>=10) & (df_titanic['Age']<20)),\n",
    "((df_titanic['Age']>=20) & (df_titanic['Age']<30)),\n",
    "((df_titanic['Age']>=30) & (df_titanic['Age']<40)),\n",
    "((df_titanic['Age']>=40) & (df_titanic['Age']<50)),\n",
    "((df_titanic['Age']>=50) & (df_titanic['Age']<60)),\n",
    "((df_titanic['Age']>=60) & (df_titanic['Age']<70)),\n",
    "(df_titanic['Age'])>=70]\n",
    "\n",
    "choilist =['유아','10대','20대','30대','40대','50대','60대','노인']\n",
    "\n",
    "df_titanic[\"Ages\"] = np.select(conlist,choilist,default='Not Specified')\n",
    "\n",
    "df_titanic.groupby('Ages').mean()['Survived']"
   ]
  },
  {
   "cell_type": "markdown",
   "metadata": {},
   "source": [
    "## 실습03\n",
    "### 실습03-1 30대이면서1등석에탄사람의수"
   ]
  },
  {
   "cell_type": "code",
   "execution_count": 310,
   "metadata": {},
   "outputs": [
    {
     "data": {
      "text/plain": [
       "50"
      ]
     },
     "execution_count": 310,
     "metadata": {},
     "output_type": "execute_result"
    }
   ],
   "source": [
    "df_titanic[(df_titanic[\"Ages\"] == '30대')&(df_titanic['Pclass'] == 1)]['Pclass'].count()"
   ]
  },
  {
   "cell_type": "markdown",
   "metadata": {},
   "source": [
    "### 실습03-2 클래스(Pclass)별나이평균"
   ]
  },
  {
   "cell_type": "code",
   "execution_count": 309,
   "metadata": {},
   "outputs": [
    {
     "data": {
      "text/plain": [
       "Pclass\n",
       "1    37.048118\n",
       "2    29.866958\n",
       "3    26.403259\n",
       "Name: Age, dtype: float64"
      ]
     },
     "execution_count": 309,
     "metadata": {},
     "output_type": "execute_result"
    }
   ],
   "source": [
    "df_titanic.groupby(\"Pclass\").mean()['Age']"
   ]
  },
  {
   "cell_type": "markdown",
   "metadata": {},
   "source": [
    "### 실습03-3 클래스(Pclass)와성별에따른생존율"
   ]
  },
  {
   "cell_type": "code",
   "execution_count": 311,
   "metadata": {},
   "outputs": [
    {
     "data": {
      "text/plain": [
       "Pclass  Sex   \n",
       "1       female    0.968085\n",
       "        male      0.368852\n",
       "2       female    0.921053\n",
       "        male      0.157407\n",
       "3       female    0.500000\n",
       "        male      0.135447\n",
       "Name: Survived, dtype: float64"
      ]
     },
     "execution_count": 311,
     "metadata": {},
     "output_type": "execute_result"
    }
   ],
   "source": [
    "df_titanic.groupby(['Pclass','Sex']).mean()['Survived']"
   ]
  },
  {
   "cell_type": "markdown",
   "metadata": {},
   "source": [
    "### 실습 03-4 나이(Age)대별로생존율구하기"
   ]
  },
  {
   "cell_type": "code",
   "execution_count": 296,
   "metadata": {
    "scrolled": false
   },
   "outputs": [
    {
     "data": {
      "text/plain": [
       "Ages_2\n",
       "-1    0.293785\n",
       "0     0.612903\n",
       "10    0.401961\n",
       "20    0.350000\n",
       "30    0.437126\n",
       "40    0.382022\n",
       "50    0.416667\n",
       "60    0.315789\n",
       "70    0.000000\n",
       "80    1.000000\n",
       "Name: Survived, dtype: float64"
      ]
     },
     "execution_count": 296,
     "metadata": {},
     "output_type": "execute_result"
    }
   ],
   "source": [
    "df_titanic2 = pd.read_csv('titanic_train.csv')\n",
    "\n",
    "conlist = [(df_titanic2['Age']<10),\n",
    "((df_titanic2['Age']>=10) & (df_titanic2['Age']<20)),\n",
    "((df_titanic2['Age']>=20) & (df_titanic2['Age']<30)),\n",
    "((df_titanic2['Age']>=30) & (df_titanic2['Age']<40)),\n",
    "((df_titanic2['Age']>=40) & (df_titanic2['Age']<50)),\n",
    "((df_titanic2['Age']>=50) & (df_titanic2['Age']<60)),\n",
    "((df_titanic2['Age']>=60) & (df_titanic2['Age']<70)),\n",
    "((df_titanic2['Age']>=70) & (df_titanic2['Age']<80)),\n",
    "(df_titanic2['Age']>=80)]\n",
    "\n",
    "choilist =['0','10','20','30','40','50','60','70','80']\n",
    "\n",
    "df_titanic2[\"Ages_2\"] = np.select(conlist,choilist,default='-1')\n",
    "\n",
    "df_titanic2.groupby('Ages_2').mean()['Survived']"
   ]
  }
 ],
 "metadata": {
  "kernelspec": {
   "display_name": "Python 3.7.10 64-bit ('aclass': conda)",
   "name": "python3710jvsc74a57bd02ea7195499a1576fe7ab555b5ff36e6a3a5bfa5aeb4a95d73588db682146415a"
  },
  "language_info": {
   "codemirror_mode": {
    "name": "ipython",
    "version": 3
   },
   "file_extension": ".py",
   "mimetype": "text/x-python",
   "name": "python",
   "nbconvert_exporter": "python",
   "pygments_lexer": "ipython3",
   "version": "3.7.10"
  },
  "metadata": {
   "interpreter": {
    "hash": "2ea7195499a1576fe7ab555b5ff36e6a3a5bfa5aeb4a95d73588db682146415a"
   }
  }
 },
 "nbformat": 4,
 "nbformat_minor": 2
}
