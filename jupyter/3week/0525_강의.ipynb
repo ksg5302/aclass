{
 "metadata": {
  "language_info": {
   "codemirror_mode": {
    "name": "ipython",
    "version": 3
   },
   "file_extension": ".py",
   "mimetype": "text/x-python",
   "name": "python",
   "nbconvert_exporter": "python",
   "pygments_lexer": "ipython3",
   "version": "3.7.10"
  },
  "orig_nbformat": 2,
  "kernelspec": {
   "name": "python3710jvsc74a57bd02ea7195499a1576fe7ab555b5ff36e6a3a5bfa5aeb4a95d73588db682146415a",
   "display_name": "Python 3.7.10 64-bit ('aclass': conda)"
  }
 },
 "nbformat": 4,
 "nbformat_minor": 2,
 "cells": [
  {
   "cell_type": "code",
   "execution_count": 5,
   "metadata": {},
   "outputs": [],
   "source": [
    "from selenium import webdriver\n",
    "from selenium.webdriver.common.keys import Keys\n",
    "from bs4 import BeautifulSoup\n",
    "import requests\n",
    "\n",
    "chromedriver = '../../chromedriver.exe'"
   ]
  },
  {
   "cell_type": "code",
   "execution_count": 12,
   "metadata": {},
   "outputs": [
    {
     "output_type": "stream",
     "name": "stderr",
     "text": [
      "C:\\Users\\student\\anaconda3\\envs\\aclass\\lib\\site-packages\\ipykernel_launcher.py:3: DeprecationWarning: use options instead of chrome_options\n",
      "  This is separate from the ipykernel package so we can avoid doing imports until\n",
      "1 [디자인 화제] 캐릭터 체험 미술교사 ‘만지작 선생님’ 위촉식 개최\n",
      "2 영화 속 상상은 그림이 된다! ‘맥스 달튼, 영화의 순간들’ 전\n",
      "3 사람과 자동차가 모두 충전하는 곳\n",
      "4 테디 베어에서 영감받은 엑소 카이와 구찌의 컬래버레이션 \n",
      "5 제 2회 팜(Farm)터지고 펀(Fun)한 농업농촌 영상 공모전(~ 11월 26일)\n",
      "6 화성습지 23초 영화제 및 알락꼬리마도요 얼굴 찾기 공모전\n",
      "7 톡톡 튀는 디자인 창업 아이디어가 모이는 곳\n",
      "8 ‘공예정원’ 가상현실(VR)스토어 오픈\n",
      "9 2021 광주요 도자축제 ‘홈커밍 위크’ 개최\n",
      "10 원스토어, 상업적 이용 가능한 무료 모바일 글꼴 3종 배포\n",
      "11 카카오프렌즈 ‘어피치’, 피치파이브로 글로벌 MZ세대를 사로잡다\n",
      "12 [미니인턴X팀와이퍼] 2주만에 '디자이너' 실무 역량 쌓고 채용연계까지? 미니인턴 지금 신\n"
     ]
    }
   ],
   "source": [
    "options = webdriver.ChromeOptions()\n",
    "options.add_argument(\"headless\")\n",
    "driver = webdriver.Chrome(chromedriver, chrome_options=options)\n",
    "driver.get('https://www.jungle.co.kr/')\n",
    "title_list = driver.find_elements_by_css_selector(\".title\")\n",
    "for i, title in enumerate(title_list):\n",
    "    print(str(i+1),title.text)"
   ]
  },
  {
   "cell_type": "code",
   "execution_count": 22,
   "metadata": {},
   "outputs": [
    {
     "output_type": "stream",
     "name": "stdout",
     "text": [
      "1 [디자인 화제] 캐릭터 체험 미술교사 ‘만지작 선생님’ 위촉식 개최\n2 영화 속 상상은 그림이 된다! ‘맥스 달튼, 영화의 순간들’ 전\n3 사람과 자동차가 모두 충전하는 곳\n4 테디 베어에서 영감받은 엑소 카이와 구찌의 컬래버레이션 \n5 제 2회 팜(Farm)터지고 펀(Fun)한 농업농촌 영상 공모전(~ 11월 26일)\n6 화성습지 23초 영화제 및 알락꼬리마도요 얼굴 찾기 공모전\n7 톡톡 튀는 디자인 창업 아이디어가 모이는 곳\n8 ‘공예정원’ 가상현실(VR)스토어 오픈\n9 2021 광주요 도자축제 ‘홈커밍 위크’ 개최\n10 원스토어, 상업적 이용 가능한 무료 모바일 글꼴 3종 배포\n11 카카오프렌즈 ‘어피치’, 피치파이브로 글로벌 MZ세대를 사로잡다\n12 [미니인턴X팀와이퍼] 2주만에 '디자이너' 실무 역량 쌓고 채용연계까지? 미니인턴 지금 신\nWall time: 3.58 s\n"
     ]
    }
   ],
   "source": [
    "%%time\n",
    "options = webdriver.ChromeOptions()\n",
    "options.add_argument(\"headless\")\n",
    "driver = webdriver.Chrome(chromedriver)\n",
    "# driver = webdriver.Chrome(chromedriver, chrome_options=options)\n",
    "driver.get('https://www.jungle.co.kr/')\n",
    "# driver.find_elements_by_css_selector(\"#more\")[0].click()\n",
    "\n",
    "driver.execute_script(\"window.scrollTo(0, document.body.scrollHeight);\")\n",
    "driver.implicitly_wait(2)\n",
    "\n",
    "title_list = driver.find_elements_by_css_selector(\".title\")\n",
    "for i, title in enumerate(title_list):\n",
    "    print(str(i+1),title.text)\n"
   ]
  },
  {
   "cell_type": "code",
   "execution_count": 19,
   "metadata": {},
   "outputs": [
    {
     "output_type": "stream",
     "name": "stdout",
     "text": [
      "1 [디자인 화제] 캐릭터 체험 미술교사 ‘만지작 선생님’ 위촉식 개최\n2 영화 속 상상은 그림이 된다! ‘맥스 달튼, 영화의 순간들’ 전\n3 사람과 자동차가 모두 충전하는 곳\n4 제 2회 팜(Farm)터지고 펀(Fun)한 농업농촌 영상 공모전(~ 11월 26일)\n5 화성습지 23초 영화제 및 알락꼬리마도요 얼굴 찾기 공모전\n6 톡톡 튀는 디자인 창업 아이디어가 모이는 곳\n7 ‘공예정원’ 가상현실(VR)스토어 오픈\n8 2021 광주요 도자축제 ‘홈커밍 위크’ 개최\n9 원스토어, 상업적 이용 가능한 무료 모바일 글꼴 3종 배포\n10 카카오프렌즈 ‘어피치’, 피치파이브로 글로벌 MZ세대를 사로잡다\n11 [미니인턴X팀와이퍼] 2주만에 '디자이너' 실무 역량 쌓고 채용연계까지? 미니인턴 지금 신\nWall time: 165 ms\n"
     ]
    }
   ],
   "source": [
    "%%time\n",
    "import requests\n",
    "from bs4 import BeautifulSoup\n",
    "\n",
    "url = 'https://www.jungle.co.kr'\n",
    "res = requests.get(url)\n",
    "soup = BeautifulSoup(res.text, \"html.parser\")\n",
    "title_list = soup.select(\".title\")\n",
    "for i, title in enumerate(title_list):\n",
    "    print(str(i + 1), title.text)"
   ]
  },
  {
   "cell_type": "code",
   "execution_count": 28,
   "metadata": {},
   "outputs": [],
   "source": [
    "import requests\n",
    "\n",
    "service_key= \"%2Bt%2FRGnLoxMzOUg5Uj%2FQT8QZQmp849OGnpscGH%2BTCYnegCW23VlIZti9wnNXRsoWCXOVsCTFI2LzzBZcb8bqXDQ%3D%3D\"\n",
    "url = 'http://openapi.epost.go.kr/postal/retrieveNewAdressAreaCdService/retrieveNewAdressAreaCdService/getNewAddressListAreaCd'\n",
    "\n",
    "service_key_decoded = requests.utils.unquote(service_key)"
   ]
  },
  {
   "cell_type": "code",
   "execution_count": 31,
   "metadata": {},
   "outputs": [
    {
     "output_type": "execute_result",
     "data": {
      "text/plain": [
       "'<?xml version=\"1.0\" encoding=\"UTF-8\" standalone=\"yes\"?><NewAddressListResponse><cmmMsgHeader><requestMsgId></requestMsgId><responseMsgId></responseMsgId><responseTime>20210525:133130638</responseTime><successYN>N</successYN><returnCode>30</returnCode><errMsg>SERVICE KEY IS NOT REGISTERED ERROR.</errMsg></cmmMsgHeader></NewAddressListResponse>'"
      ]
     },
     "metadata": {},
     "execution_count": 31
    }
   ],
   "source": [
    "req_parameter = {\"ServiceKey\" : service_key_decoded, \"searchSe\":\"road\",\"srchwrd\":\"강석로 152\"}\n",
    "result = requests.get(url, params = req_parameter)\n",
    "result.text"
   ]
  },
  {
   "cell_type": "code",
   "execution_count": null,
   "metadata": {},
   "outputs": [],
   "source": []
  }
 ]
}