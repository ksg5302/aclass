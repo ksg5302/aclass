{
 "cells": [
  {
   "cell_type": "markdown",
   "metadata": {},
   "source": [
    "# 반복문"
   ]
  },
  {
   "cell_type": "code",
   "execution_count": 9,
   "metadata": {},
   "outputs": [
    {
     "name": "stdout",
     "output_type": "stream",
     "text": [
      "0 번째 -1\n",
      "1 번째 0\n",
      "2 번째 1\n",
      "3 번째 2\n",
      "4 번째 3\n",
      "5 번째 4\n",
      "6 번째 5\n",
      "7 번째 6\n",
      "8 번째 7\n",
      "9 번째 8\n"
     ]
    }
   ],
   "source": [
    "for i in range(0,10):\n",
    "    print(\"{} 번째 {}\".format(i,i-1))"
   ]
  },
  {
   "cell_type": "code",
   "execution_count": 8,
   "metadata": {},
   "outputs": [
    {
     "name": "stdout",
     "output_type": "stream",
     "text": [
      "0 번째 -1\n",
      "1 번째 0\n",
      "2 번째 1\n",
      "3 번째 2\n",
      "4 번째 3\n",
      "5 번째 4\n",
      "6 번째 5\n",
      "7 번째 6\n",
      "8 번째 7\n",
      "9 번째 8\n"
     ]
    }
   ],
   "source": [
    "for i in range(0,10):\n",
    "    print(f\"{i} 번째 {i-1}\")"
   ]
  },
  {
   "cell_type": "code",
   "execution_count": 10,
   "metadata": {},
   "outputs": [
    {
     "name": "stdout",
     "output_type": "stream",
     "text": [
      "1\n",
      "2\n",
      "3\n",
      "4\n",
      "5\n",
      "6\n",
      "7\n"
     ]
    }
   ],
   "source": [
    "a = [1,2,3,4,5,6,7,]\n",
    "for i in a:\n",
    "    print(i)"
   ]
  },
  {
   "cell_type": "code",
   "execution_count": 13,
   "metadata": {},
   "outputs": [
    {
     "name": "stdout",
     "output_type": "stream",
     "text": [
      "Orange"
     ]
    }
   ],
   "source": [
    "a = \"Orange\"\n",
    "for i in a:\n",
    "    print(i, end=\"\")"
   ]
  },
  {
   "cell_type": "code",
   "execution_count": 16,
   "metadata": {},
   "outputs": [],
   "source": [
    "a= dict(name=\"tom\",math=\"80\", english=\"90\")"
   ]
  },
  {
   "cell_type": "code",
   "execution_count": 24,
   "metadata": {},
   "outputs": [
    {
     "name": "stdout",
     "output_type": "stream",
     "text": [
      "name\n",
      "math\n",
      "english\n"
     ]
    }
   ],
   "source": [
    "for i in a:\n",
    "    print(i)\n"
   ]
  },
  {
   "cell_type": "code",
   "execution_count": 25,
   "metadata": {},
   "outputs": [
    {
     "name": "stdout",
     "output_type": "stream",
     "text": [
      "tom\n",
      "80\n",
      "90\n"
     ]
    }
   ],
   "source": [
    "for i in a:\n",
    "    print(a[i])"
   ]
  },
  {
   "cell_type": "code",
   "execution_count": 31,
   "metadata": {},
   "outputs": [
    {
     "name": "stdout",
     "output_type": "stream",
     "text": [
      "name : tom \n",
      "math : 80 \n",
      "english : 90 \n"
     ]
    }
   ],
   "source": [
    "for i in a:\n",
    "    print(f\"{i} : {a[i]} \")"
   ]
  },
  {
   "cell_type": "code",
   "execution_count": 36,
   "metadata": {},
   "outputs": [
    {
     "name": "stdout",
     "output_type": "stream",
     "text": [
      "name : tom\n",
      "math : 80\n",
      "english : 90\n"
     ]
    }
   ],
   "source": [
    "for i, j in a.items():\n",
    "    print(f\"{i} : {j}\")"
   ]
  },
  {
   "cell_type": "code",
   "execution_count": 37,
   "metadata": {},
   "outputs": [],
   "source": [
    "a = [1, 2, 3, 4, 5, 6, 7]"
   ]
  },
  {
   "cell_type": "code",
   "execution_count": 40,
   "metadata": {},
   "outputs": [
    {
     "name": "stdout",
     "output_type": "stream",
     "text": [
      "0 -> 1\n",
      "1 -> 2\n",
      "2 -> 3\n",
      "3 -> 4\n",
      "4 -> 5\n",
      "5 -> 6\n",
      "6 -> 7\n"
     ]
    }
   ],
   "source": [
    "for i in range(len(a)):\n",
    "    print(\"{} -> {}\".format(i,a[i]))"
   ]
  },
  {
   "cell_type": "code",
   "execution_count": 41,
   "metadata": {},
   "outputs": [
    {
     "name": "stdout",
     "output_type": "stream",
     "text": [
      "0 -> 1\n",
      "1 -> 2\n",
      "2 -> 3\n",
      "3 -> 4\n",
      "4 -> 5\n",
      "5 -> 6\n",
      "6 -> 7\n"
     ]
    }
   ],
   "source": [
    "for index, number in enumerate(a):\n",
    "    print(\"{} -> {}\".format(index, number))"
   ]
  },
  {
   "cell_type": "code",
   "execution_count": 48,
   "metadata": {},
   "outputs": [
    {
     "name": "stdout",
     "output_type": "stream",
     "text": [
      "******************** i : 0\n",
      "j : 0\n",
      "j : 1\n",
      "j : 2\n",
      "******************** i : 1\n",
      "j : 0\n",
      "j : 1\n",
      "j : 2\n",
      "******************** i : 2\n",
      "j : 0\n",
      "j : 1\n",
      "j : 2\n",
      "******************** i : 3\n",
      "j : 0\n",
      "j : 1\n",
      "j : 2\n",
      "******************** i : 4\n",
      "j : 0\n",
      "j : 1\n",
      "j : 2\n"
     ]
    }
   ],
   "source": [
    "for i in range(5):\n",
    "    print(\"*\"*20,end=\"\")\n",
    "    print(\" i :\", i)\n",
    "    for j in range(3):\n",
    "        print(\"j :\",j)"
   ]
  },
  {
   "cell_type": "markdown",
   "metadata": {},
   "source": [
    "## 실습01"
   ]
  },
  {
   "cell_type": "markdown",
   "metadata": {},
   "source": [
    "### 1번"
   ]
  },
  {
   "cell_type": "code",
   "execution_count": 49,
   "metadata": {},
   "outputs": [
    {
     "name": "stdout",
     "output_type": "stream",
     "text": [
      "[30, 60, 90, 200, -70, 50]\n"
     ]
    }
   ],
   "source": [
    "x = [3, 6, 9, 20, -7, 5]\n",
    "\n",
    "for i , j in enumerate(x):\n",
    "    x[i] = j*10\n",
    "print(x)"
   ]
  },
  {
   "cell_type": "markdown",
   "metadata": {},
   "source": [
    "### 2번"
   ]
  },
  {
   "cell_type": "code",
   "execution_count": 55,
   "metadata": {},
   "outputs": [
    {
     "name": "stdout",
     "output_type": "stream",
     "text": [
      "{'math': 80, 'sience': 90, 'english': 30}\n"
     ]
    }
   ],
   "source": [
    "y = {\"math\":70, \"sience\":80,\"english\":20}\n",
    "\n",
    "for k in y:\n",
    "    y[k] += 10\n",
    "print(y)"
   ]
  },
  {
   "cell_type": "markdown",
   "metadata": {},
   "source": [
    "### 3번"
   ]
  },
  {
   "cell_type": "code",
   "execution_count": 56,
   "metadata": {},
   "outputs": [
    {
     "name": "stdout",
     "output_type": "stream",
     "text": [
      "몇단을 출력하시겠습니까?3\n",
      "3 * 1 = 3\n",
      "3 * 2 = 6\n",
      "3 * 3 = 9\n",
      "3 * 4 = 12\n",
      "3 * 5 = 15\n",
      "3 * 6 = 18\n",
      "3 * 7 = 21\n",
      "3 * 8 = 24\n",
      "3 * 9 = 27\n"
     ]
    }
   ],
   "source": [
    "num = int(input(\"몇단을 출력하시겠습니까?\"))\n",
    "\n",
    "for z in range(1, 10):\n",
    "    print(\"{} * {} = {}\".format(num, z, num*z))"
   ]
  },
  {
   "cell_type": "markdown",
   "metadata": {},
   "source": [
    "## 실습02"
   ]
  },
  {
   "cell_type": "markdown",
   "metadata": {},
   "source": [
    "### 1번"
   ]
  },
  {
   "cell_type": "code",
   "execution_count": 59,
   "metadata": {},
   "outputs": [
    {
     "name": "stdout",
     "output_type": "stream",
     "text": [
      "['school', 'science', 'mountain']\n"
     ]
    }
   ],
   "source": [
    "words = [\"school\",\"game\",\"piano\",\"science\",\"hotel\",\"mountain\"]\n",
    "words_6 =[]\n",
    "for i in words:\n",
    "    if len(i)>=6:\n",
    "        words_6.append(i)\n",
    "print(words_6)"
   ]
  },
  {
   "cell_type": "markdown",
   "metadata": {},
   "source": [
    "### 2번"
   ]
  },
  {
   "cell_type": "code",
   "execution_count": 61,
   "metadata": {},
   "outputs": [
    {
     "name": "stdout",
     "output_type": "stream",
     "text": [
      "1 * 1 = 1\n",
      "1 * 2 = 2\n",
      "1 * 3 = 3\n",
      "1 * 4 = 4\n",
      "1 * 5 = 5\n",
      "1 * 6 = 6\n",
      "1 * 7 = 7\n",
      "1 * 8 = 8\n",
      "1 * 9 = 9\n",
      "2 * 1 = 2\n",
      "2 * 2 = 4\n",
      "2 * 3 = 6\n",
      "2 * 4 = 8\n",
      "2 * 5 = 10\n",
      "2 * 6 = 12\n",
      "2 * 7 = 14\n",
      "2 * 8 = 16\n",
      "2 * 9 = 18\n",
      "3 * 1 = 3\n",
      "3 * 2 = 6\n",
      "3 * 3 = 9\n",
      "3 * 4 = 12\n",
      "3 * 5 = 15\n",
      "3 * 6 = 18\n",
      "3 * 7 = 21\n",
      "3 * 8 = 24\n",
      "3 * 9 = 27\n",
      "4 * 1 = 4\n",
      "4 * 2 = 8\n",
      "4 * 3 = 12\n",
      "4 * 4 = 16\n",
      "4 * 5 = 20\n",
      "4 * 6 = 24\n",
      "4 * 7 = 28\n",
      "4 * 8 = 32\n",
      "4 * 9 = 36\n",
      "5 * 1 = 5\n",
      "5 * 2 = 10\n",
      "5 * 3 = 15\n",
      "5 * 4 = 20\n",
      "5 * 5 = 25\n",
      "5 * 6 = 30\n",
      "5 * 7 = 35\n",
      "5 * 8 = 40\n",
      "5 * 9 = 45\n",
      "6 * 1 = 6\n",
      "6 * 2 = 12\n",
      "6 * 3 = 18\n",
      "6 * 4 = 24\n",
      "6 * 5 = 30\n",
      "6 * 6 = 36\n",
      "6 * 7 = 42\n",
      "6 * 8 = 48\n",
      "6 * 9 = 54\n",
      "7 * 1 = 7\n",
      "7 * 2 = 14\n",
      "7 * 3 = 21\n",
      "7 * 4 = 28\n",
      "7 * 5 = 35\n",
      "7 * 6 = 42\n",
      "7 * 7 = 49\n",
      "7 * 8 = 56\n",
      "7 * 9 = 63\n",
      "8 * 1 = 8\n",
      "8 * 2 = 16\n",
      "8 * 3 = 24\n",
      "8 * 4 = 32\n",
      "8 * 5 = 40\n",
      "8 * 6 = 48\n",
      "8 * 7 = 56\n",
      "8 * 8 = 64\n",
      "8 * 9 = 72\n",
      "9 * 1 = 9\n",
      "9 * 2 = 18\n",
      "9 * 3 = 27\n",
      "9 * 4 = 36\n",
      "9 * 5 = 45\n",
      "9 * 6 = 54\n",
      "9 * 7 = 63\n",
      "9 * 8 = 72\n",
      "9 * 9 = 81\n"
     ]
    }
   ],
   "source": [
    "for i in range(1,10):\n",
    "    for j in range(1,10):\n",
    "        print(f\"{i} * {j} = {i*j}\")"
   ]
  },
  {
   "cell_type": "markdown",
   "metadata": {},
   "source": [
    "## 실습03"
   ]
  },
  {
   "cell_type": "markdown",
   "metadata": {},
   "source": [
    "### 1번"
   ]
  },
  {
   "cell_type": "code",
   "execution_count": 88,
   "metadata": {},
   "outputs": [
    {
     "name": "stdout",
     "output_type": "stream",
     "text": [
      "[-7, 3, 5, 6, 9, 20]\n"
     ]
    }
   ],
   "source": [
    "#번잡함, for문이 너무 많이 쓰임, 중복 숫자 표기 안됨\n",
    "\n",
    "num_list = [3,6,9,20,-7,5]\n",
    "\n",
    "sort_num_list=[]\n",
    "for i in range(len(num_list)):\n",
    "    for j in range(len(num_list)):\n",
    "        if num_list[i] > num_list[j]:\n",
    "            if not num_list[j] in sort_num_list: \n",
    "                sort_num_list.append(num_list[j])\n",
    "\n",
    "for k in range(len(num_list)):\n",
    "    if not num_list[k] in sort_num_list:\n",
    "        sort_num_list.append(num_list[k])\n",
    "                \n",
    "print(sort_num_list)"
   ]
  },
  {
   "cell_type": "code",
   "execution_count": 89,
   "metadata": {
    "scrolled": false
   },
   "outputs": [
    {
     "name": "stdout",
     "output_type": "stream",
     "text": [
      "[-7, 3, 5, 6, 9, 20]\n"
     ]
    }
   ],
   "source": [
    "num_list = [3,6,9,20,-7,5]\n",
    "sort_num_list=[]\n",
    "score = 0\n",
    "\n",
    "for i in num_list:\n",
    "    for j in num_list:\n",
    "        if i > j:\n",
    "            score += 1\n",
    "    sort_num_list.insert(score, i)\n",
    "    score = 0\n",
    "print(sort_num_list)\n"
   ]
  },
  {
   "cell_type": "code",
   "execution_count": 93,
   "metadata": {},
   "outputs": [
    {
     "name": "stdout",
     "output_type": "stream",
     "text": [
      "[-7, 3, 5, 6, 9, 20]\n"
     ]
    }
   ],
   "source": [
    "#버블정렬\n",
    "x = [3,6,9,20,-7,5]\n",
    "\n",
    "for i in range(len(x) -1):\n",
    "    for j in range(len(x) -i -1):   \n",
    "        if x[j] > x[j+1]:\n",
    "             x[j], x[j+1] = x[j+1], x[j]\n",
    "print(x)"
   ]
  },
  {
   "cell_type": "code",
   "execution_count": 102,
   "metadata": {},
   "outputs": [
    {
     "name": "stdout",
     "output_type": "stream",
     "text": [
      "[-7, 3, 5, 6, 9, 20]\n"
     ]
    }
   ],
   "source": [
    "x = [3,6,9,20,-7,5]\n",
    "y = []\n",
    "\n",
    "for i in range(min(x),max(x)+1):\n",
    "    if i in x:\n",
    "        y.append(i)\n",
    "print(y)"
   ]
  },
  {
   "cell_type": "code",
   "execution_count": null,
   "metadata": {},
   "outputs": [],
   "source": []
  },
  {
   "cell_type": "code",
   "execution_count": 104,
   "metadata": {},
   "outputs": [
    {
     "name": "stdout",
     "output_type": "stream",
     "text": [
      "[-7, 3, 5, 6, 9, 20]\n"
     ]
    }
   ],
   "source": [
    "#선택 정렬\n",
    "\n",
    "arr = [3,6,9,20,-7,5]\n",
    "\n",
    "for i in range(len(arr)):\n",
    "    for j in range(i+1,len(arr)):\n",
    "        if arr[i]>arr[j]:\n",
    "            arr[i], arr[j] = arr[j], arr[i]\n",
    "print(arr)\n",
    "        "
   ]
  },
  {
   "cell_type": "markdown",
   "metadata": {},
   "source": [
    "### 2번"
   ]
  },
  {
   "cell_type": "code",
   "execution_count": 64,
   "metadata": {},
   "outputs": [
    {
     "name": "stdout",
     "output_type": "stream",
     "text": [
      "1\n",
      "2\n",
      "3 : 3의 배수\n",
      "4\n",
      "5 : 5의 배수\n",
      "6 : 3의 배수\n",
      "7\n",
      "8\n",
      "9 : 3의 배수\n",
      "10 : 5의 배수\n",
      "11\n",
      "12 : 3의 배수\n",
      "13\n",
      "14\n",
      "15 : 3과 5의 공배수\n",
      "16\n",
      "17\n",
      "18 : 3의 배수\n",
      "19\n",
      "20 : 5의 배수\n",
      "21 : 3의 배수\n",
      "22\n",
      "23\n",
      "24 : 3의 배수\n",
      "25 : 5의 배수\n",
      "26\n",
      "27 : 3의 배수\n",
      "28\n",
      "29\n",
      "30 : 3과 5의 공배수\n",
      "31\n",
      "32\n",
      "33 : 3의 배수\n",
      "34\n",
      "35 : 5의 배수\n",
      "36 : 3의 배수\n",
      "37\n",
      "38\n",
      "39 : 3의 배수\n",
      "40 : 5의 배수\n",
      "41\n",
      "42 : 3의 배수\n",
      "43\n",
      "44\n",
      "45 : 3과 5의 공배수\n",
      "46\n",
      "47\n",
      "48 : 3의 배수\n",
      "49\n",
      "50 : 5의 배수\n",
      "51 : 3의 배수\n",
      "52\n",
      "53\n",
      "54 : 3의 배수\n",
      "55 : 5의 배수\n",
      "56\n",
      "57 : 3의 배수\n",
      "58\n",
      "59\n",
      "60 : 3과 5의 공배수\n",
      "61\n",
      "62\n",
      "63 : 3의 배수\n",
      "64\n",
      "65 : 5의 배수\n",
      "66 : 3의 배수\n",
      "67\n",
      "68\n",
      "69 : 3의 배수\n",
      "70 : 5의 배수\n",
      "71\n",
      "72 : 3의 배수\n",
      "73\n",
      "74\n",
      "75 : 3과 5의 공배수\n",
      "76\n",
      "77\n",
      "78 : 3의 배수\n",
      "79\n",
      "80 : 5의 배수\n",
      "81 : 3의 배수\n",
      "82\n",
      "83\n",
      "84 : 3의 배수\n",
      "85 : 5의 배수\n",
      "86\n",
      "87 : 3의 배수\n",
      "88\n",
      "89\n",
      "90 : 3과 5의 공배수\n",
      "91\n",
      "92\n",
      "93 : 3의 배수\n",
      "94\n",
      "95 : 5의 배수\n",
      "96 : 3의 배수\n",
      "97\n",
      "98\n",
      "99 : 3의 배수\n",
      "100 : 5의 배수\n"
     ]
    }
   ],
   "source": [
    "for i in range(1,101):\n",
    "    if i%15 == 0:\n",
    "        print(\"{} : 3과 5의 공배수\".format(i))\n",
    "    elif i%3 == 0:\n",
    "        print(f\"{i} : 3의 배수\")\n",
    "    elif i%5 == 0:\n",
    "        print(\"{} : 5의 배수\".format(i))\n",
    "    else:\n",
    "        print(i)"
   ]
  },
  {
   "cell_type": "code",
   "execution_count": null,
   "metadata": {},
   "outputs": [],
   "source": []
  },
  {
   "cell_type": "code",
   "execution_count": null,
   "metadata": {},
   "outputs": [],
   "source": []
  },
  {
   "cell_type": "markdown",
   "metadata": {},
   "source": [
    "## while"
   ]
  },
  {
   "cell_type": "code",
   "execution_count": 111,
   "metadata": {},
   "outputs": [
    {
     "name": "stdout",
     "output_type": "stream",
     "text": [
      "반복횟수1\n",
      "입력횟수\n"
     ]
    }
   ],
   "source": [
    "count = int(input(\"반복횟수\"))\n",
    "i = 0\n",
    "while i < count:\n",
    "    print(\"입력횟수\")\n",
    "    i+=1"
   ]
  },
  {
   "cell_type": "code",
   "execution_count": 114,
   "metadata": {},
   "outputs": [
    {
     "name": "stdout",
     "output_type": "stream",
     "text": [
      "0을 입력하면 멈춤2\n",
      "0을 입력하면 멈춤3\n",
      "0을 입력하면 멈춤4\n",
      "0을 입력하면 멈춤3\n",
      "0을 입력하면 멈춤0\n"
     ]
    }
   ],
   "source": [
    "while 1<2:\n",
    "    x = int(input(\"0을 입력하면 멈춤\"))\n",
    "    if x == 0:\n",
    "        break"
   ]
  },
  {
   "cell_type": "markdown",
   "metadata": {},
   "source": [
    "### 실습01"
   ]
  },
  {
   "cell_type": "code",
   "execution_count": 139,
   "metadata": {},
   "outputs": [
    {
     "name": "stdout",
     "output_type": "stream",
     "text": [
      "값을 입력해주세요 : 0\n",
      "합계는 0 입니다.\n"
     ]
    }
   ],
   "source": [
    "sum = 0\n",
    "\n",
    "while True:\n",
    "    x = int(input(\"값을 입력해주세요 : \"))\n",
    "    sum += x\n",
    "    if x == 0:\n",
    "        print(\"합계는 {} 입니다.\".format(sum))\n",
    "        break"
   ]
  },
  {
   "cell_type": "markdown",
   "metadata": {},
   "source": [
    "### 실습02"
   ]
  },
  {
   "cell_type": "code",
   "execution_count": 144,
   "metadata": {},
   "outputs": [
    {
     "name": "stdout",
     "output_type": "stream",
     "text": [
      "1(가위) 2(바위) 3(보)를 입력해주세요 1\n",
      "게임종료(전체:0, 승리:0)\n"
     ]
    }
   ],
   "source": [
    "import random\n",
    "total_count=0\n",
    "win_count=0\n",
    "\n",
    "tb = {1:\"가위\", 2:\"바위\", 3:\"보\"}\n",
    "\n",
    "while True:\n",
    "    cp = random.randint(1,3)\n",
    "    us = int(input(\"1(가위) 2(바위) 3(보)를 입력해주세요 \"))\n",
    "    \n",
    "    if us not in [1,2,3]:\n",
    "        print(\"게임종료(전체:{}, 승리:{})\".format(total_count,win_count ))\n",
    "        break\n",
    "        \n",
    "    print(\"유저 : {}, 컴퓨터 : {}\".format(tb[us], tb[cp]))\n",
    "    total_count +=1\n",
    "    \n",
    "    if [us,cp] in [[1,3],[2,1],[3,2]]:\n",
    "        win_count +=1\n",
    "        \n",
    "    '''if us-cp==-2 or us-cp==1:\n",
    "        win_count +=1'''"
   ]
  },
  {
   "cell_type": "code",
   "execution_count": 145,
   "metadata": {},
   "outputs": [
    {
     "name": "stdout",
     "output_type": "stream",
     "text": [
      "0 1 2 "
     ]
    }
   ],
   "source": [
    "for i in range(5):\n",
    "    if(i==3):\n",
    "        break\n",
    "    print(i,end=\" \")"
   ]
  },
  {
   "cell_type": "code",
   "execution_count": 146,
   "metadata": {},
   "outputs": [
    {
     "name": "stdout",
     "output_type": "stream",
     "text": [
      "0 1 2 4 "
     ]
    }
   ],
   "source": [
    "for i in range(5):\n",
    "    if(i==3):\n",
    "        continue\n",
    "    print(i,end=\" \")"
   ]
  },
  {
   "cell_type": "code",
   "execution_count": 147,
   "metadata": {},
   "outputs": [
    {
     "name": "stdout",
     "output_type": "stream",
     "text": [
      "0 1 2 3 4 "
     ]
    }
   ],
   "source": [
    "for i in range(5):\n",
    "    if(i==3):\n",
    "        pass\n",
    "    print(i,end=\" \")"
   ]
  },
  {
   "cell_type": "code",
   "execution_count": null,
   "metadata": {},
   "outputs": [],
   "source": []
  },
  {
   "cell_type": "markdown",
   "metadata": {},
   "source": [
    "## 실습1"
   ]
  },
  {
   "cell_type": "markdown",
   "metadata": {},
   "source": [
    "### 1번"
   ]
  },
  {
   "cell_type": "code",
   "execution_count": 150,
   "metadata": {},
   "outputs": [
    {
     "name": "stdout",
     "output_type": "stream",
     "text": [
      "숫자를 입력하세요:20\n",
      "0\n",
      "1\n",
      "2\n",
      "3\n",
      "4\n",
      "5\n",
      "6\n",
      "7\n",
      "8\n",
      "9\n",
      "10\n",
      "11\n",
      "12\n",
      "13\n",
      "14\n",
      "15\n",
      "16\n",
      "17\n",
      "18\n",
      "19\n",
      "20\n"
     ]
    }
   ],
   "source": [
    "user = int(input(\"숫자를 입력하세요:\"))\n",
    "cnt = 0\n",
    "while True:\n",
    "    print(cnt)\n",
    "    if user == cnt:\n",
    "        break\n",
    "    cnt += 1\n",
    "    "
   ]
  },
  {
   "cell_type": "markdown",
   "metadata": {},
   "source": [
    "### 2번"
   ]
  },
  {
   "cell_type": "code",
   "execution_count": 156,
   "metadata": {
    "scrolled": true
   },
   "outputs": [
    {
     "name": "stdout",
     "output_type": "stream",
     "text": [
      "숫자를 입력하세요:20\n",
      "0\n",
      "2\n",
      "4\n",
      "6\n",
      "8\n",
      "10\n",
      "12\n",
      "14\n",
      "16\n",
      "18\n",
      "20\n"
     ]
    }
   ],
   "source": [
    "user = int(input(\"숫자를 입력하세요:\"))\n",
    "for i in range(user+1):\n",
    "    if i % 2 != 0:\n",
    "        continue\n",
    "    print(i)"
   ]
  },
  {
   "cell_type": "code",
   "execution_count": null,
   "metadata": {},
   "outputs": [],
   "source": []
  }
 ],
 "metadata": {
  "kernelspec": {
   "display_name": "Python 3",
   "language": "python",
   "name": "python3"
  },
  "language_info": {
   "codemirror_mode": {
    "name": "ipython",
    "version": 3
   },
   "file_extension": ".py",
   "mimetype": "text/x-python",
   "name": "python",
   "nbconvert_exporter": "python",
   "pygments_lexer": "ipython3",
   "version": "3.7.9"
  }
 },
 "nbformat": 4,
 "nbformat_minor": 4
}
