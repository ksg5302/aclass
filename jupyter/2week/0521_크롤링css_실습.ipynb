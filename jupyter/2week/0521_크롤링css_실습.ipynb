{
 "metadata": {
  "language_info": {
   "codemirror_mode": {
    "name": "ipython",
    "version": 3
   },
   "file_extension": ".py",
   "mimetype": "text/x-python",
   "name": "python",
   "nbconvert_exporter": "python",
   "pygments_lexer": "ipython3",
   "version": "3.7.10"
  },
  "orig_nbformat": 2,
  "kernelspec": {
   "name": "python3710jvsc74a57bd02ea7195499a1576fe7ab555b5ff36e6a3a5bfa5aeb4a95d73588db682146415a",
   "display_name": "Python 3.7.10 64-bit ('aclass': conda)"
  }
 },
 "nbformat": 4,
 "nbformat_minor": 2,
 "cells": [
  {
   "cell_type": "code",
   "execution_count": 31,
   "metadata": {},
   "outputs": [],
   "source": [
    "from bs4 import BeautifulSoup\n",
    "import requests\n",
    "import re"
   ]
  },
  {
   "source": [
    "## 실습01 : 사이트내에인기검색종목과 주요해외지수를 각각 크롤링하여 종목명과 주가지수를 아래와같이 리스트로\n",
    "정리해주세요\n"
   ],
   "cell_type": "markdown",
   "metadata": {}
  },
  {
   "cell_type": "code",
   "execution_count": 44,
   "metadata": {},
   "outputs": [],
   "source": [
    "url = \"https://scrapying-study.firebaseapp.com/03/\"\n",
    "response = requests.get(url)\n",
    "soup = BeautifulSoup(response.text,\"html.parser\")\n",
    "result=soup.find_all(\"ul\",attrs={\"class\":\"lst_pop\"})\n",
    "result += soup.find_all(\"ul\",attrs={\"class\":\"lst_major\"})\n",
    "\n",
    "\n"
   ]
  },
  {
   "cell_type": "code",
   "execution_count": null,
   "metadata": {},
   "outputs": [],
   "source": []
  }
 ]
}