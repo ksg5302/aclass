{
 "metadata": {
  "language_info": {
   "codemirror_mode": {
    "name": "ipython",
    "version": 3
   },
   "file_extension": ".py",
   "mimetype": "text/x-python",
   "name": "python",
   "nbconvert_exporter": "python",
   "pygments_lexer": "ipython3",
   "version": "3.8.5"
  },
  "orig_nbformat": 2,
  "kernelspec": {
   "name": "python385jvsc74a57bd062d300f2a5105713bbec90fa3bc71eb0f4c5ef17a41c19ca89c3f29f1565f304",
   "display_name": "Python 3.8.5 64-bit ('base': conda)"
  }
 },
 "nbformat": 4,
 "nbformat_minor": 2,
 "cells": [
  {
   "cell_type": "code",
   "execution_count": 84,
   "metadata": {},
   "outputs": [],
   "source": [
    "from bs4 import BeautifulSoup\n",
    "import requests\n",
    "import r"
   ]
  },
  {
   "cell_type": "code",
   "execution_count": 85,
   "metadata": {},
   "outputs": [],
   "source": [
    "url = \"https://scrapying-study.firebaseapp.com/03/\"\n",
    "response = requests.get(url)\n",
    "soup = BeautifulSoup(response.text,\"html.parser\")"
   ]
  },
  {
   "source": [
    "## 실습01 : 사이트내에인기검색종목과 주요해외지수를 각각 크롤링하여 종목명과 주가지수를 아래와같이 리스트로 정리해주세요"
   ],
   "cell_type": "markdown",
   "metadata": {}
  },
  {
   "cell_type": "code",
   "execution_count": 86,
   "metadata": {},
   "outputs": [],
   "source": [
    "def mylist_1(x):\n",
    "    name_list = []\n",
    "    for i in x:\n",
    "        name_list.append([i.find('a').text, i.find('span').text])\n",
    "    return name_list\n"
   ]
  },
  {
   "cell_type": "code",
   "execution_count": 87,
   "metadata": {},
   "outputs": [
    {
     "output_type": "stream",
     "name": "stdout",
     "text": [
      "[['써니전자', '5,000'], ['삼성전자', '55,200'], ['안랩', '81,000'], ['케이엠더블..', '57,300'], ['피피아이', '12,600'], ['KT&G', '92,500'], ['삼성전자우', '45,600'], ['대양금속', '10,550'], ['SK하이닉스', '94,700'], ['SK텔레콤', '234,000']]\n[['다우산업', '28,647.43'], ['나스닥', '9,015.03'], ['홍콩H', '11,320.56'], ['상해종합', '3,085.20'], ['니케이225', '23,656.62']]\n"
     ]
    }
   ],
   "source": [
    "result_pop=soup.find(\"ul\", class_=\"lst_pop\")\n",
    "result_pop = result_pop.find_all('li')\n",
    "list_fo = mylist_1(result_pop)\n",
    "\n",
    "result_major=soup.find(\"ul\", class_=\"lst_major\")\n",
    "result_major = result_major.find_all('li')\n",
    "list_fr = mylist_1(result_major)\n",
    "\n",
    "print(list_fo)\n",
    "print(list_fr)"
   ]
  },
  {
   "source": [
    "## 실습02 : 사이트내에인기검색종목과 주요해외지수를 각각 크롤링하여 종목명과 상한, 하한여부를 아래와같이 리스트로 정리해주세요\n"
   ],
   "cell_type": "markdown",
   "metadata": {}
  },
  {
   "cell_type": "code",
   "execution_count": 88,
   "metadata": {},
   "outputs": [],
   "source": [
    "def mylist_2(x):\n",
    "    name_list = []\n",
    "    for i in x:\n",
    "        if (i.find('img')['alt'] != '상승') & (i.find('img')['alt'] != '하락'):\n",
    "            name_list.append([i.find('a').text, i.find('img')['alt']])\n",
    "    return name_list"
   ]
  },
  {
   "cell_type": "code",
   "execution_count": 89,
   "metadata": {},
   "outputs": [
    {
     "output_type": "stream",
     "name": "stdout",
     "text": [
      "[['써니전자', '상한'], ['피피아이', '상한'], ['대양금속', '하한']]\n[['다우산업', '상한'], ['나스닥', '상한'], ['홍콩H', '상한'], ['상해종합', '상한']]\n"
     ]
    }
   ],
   "source": [
    "result_pop=soup.find(\"ul\", class_=\"lst_pop\")\n",
    "result_pop = result_pop.find_all('li')\n",
    "list_fo = mylist_2(result_pop)\n",
    "\n",
    "result_major=soup.find(\"ul\", class_=\"lst_major\")\n",
    "result_major = result_major.find_all('li')\n",
    "list_fr = mylist_2(result_major)\n",
    "\n",
    "print(list_fo)\n",
    "print(list_fr)\n"
   ]
  },
  {
   "source": [
    "## 실습03 : 사이트내에 인기검색종목과 주요해외지수를 각각 상한가인 종목만 크롤링하여 종목명과 주가지수를 아래와같이 리스트로 정리해주세요\n"
   ],
   "cell_type": "markdown",
   "metadata": {}
  },
  {
   "cell_type": "code",
   "execution_count": 92,
   "metadata": {},
   "outputs": [],
   "source": [
    "def mylist_3(x):\n",
    "    name_list = []\n",
    "    for i in x:\n",
    "        if (i.find('img')['alt'] != '상승') & (i.find('img')['alt'] != '하락'):\n",
    "            name_list.append([i.find('a').text, i.find('span').text])\n",
    "    return name_list"
   ]
  },
  {
   "cell_type": "code",
   "execution_count": 93,
   "metadata": {},
   "outputs": [
    {
     "output_type": "stream",
     "name": "stdout",
     "text": [
      "[['써니전자', '5,000'], ['피피아이', '12,600'], ['대양금속', '10,550']]\n[['다우산업', '28,647.43'], ['나스닥', '9,015.03'], ['홍콩H', '11,320.56'], ['상해종합', '3,085.20']]\n"
     ]
    }
   ],
   "source": [
    "result_pop=soup.find(\"ul\", class_=\"lst_pop\")\n",
    "result_pop = result_pop.find_all('li')\n",
    "list_fo = mylist_3(result_pop)\n",
    "\n",
    "result_major=soup.find(\"ul\", class_=\"lst_major\")\n",
    "result_major = result_major.find_all('li')\n",
    "list_fr = mylist_3(result_major)\n",
    "\n",
    "print(list_fo)\n",
    "print(list_fr)"
   ]
  },
  {
   "cell_type": "code",
   "execution_count": null,
   "metadata": {},
   "outputs": [],
   "source": []
  },
  {
   "source": [
    "## 실습04  : 분양중인아파트정보를크롤링하여아래와같이딕셔너리형태로정리해주세요"
   ],
   "cell_type": "markdown",
   "metadata": {}
  },
  {
   "cell_type": "code",
   "execution_count": 182,
   "metadata": {},
   "outputs": [],
   "source": [
    "# result_sale = soup.find('ul', class_=\"sale_list\")\n",
    "# result_li = result_sale.find_all('li')\n",
    "\n",
    "result_sale = soup.select_one(\".sale_list\")\n",
    "result_li = result_sale.select('li')"
   ]
  },
  {
   "cell_type": "code",
   "execution_count": 183,
   "metadata": {},
   "outputs": [
    {
     "output_type": "stream",
     "name": "stdout",
     "text": [
      "[{'이름': 'H하우스장위', '분양가': '16,000', '유형': '아파트', '분양유형': '일반민간임대', '세대수': '분양 134세대', '평형': '45㎡~65㎡'}, {'이름': '고덕리엔파크2단지 장기전세', '분양가': '38,400', '유형': '아파트', '분양유형': '장기전세주택', '세대수': '분양 1세대', '평형': '149㎡'}, {'이름': '신정이펜하우스3단지 장기전세', '분양가': '39,040', '유형': '아파트', '분양유형': '장기전세주택', '세대수': '분양 1세대', '평형': '148㎡'}, {'이름': '천왕이펜하우스2단지 장기전세', '분양가': '38,240', '유형': '아파트', '분양유형': '장기전세주택', '세대수': '분양 1세대', '평형': '142㎡'}, {'이름': '송파파크데일2단지 장기전세', '분양가': '45,600', '유형': '아파트', '분양유형': '장기전세주택', '세대수': '분양 1세대', '평형': '150㎡'}]\n"
     ]
    }
   ],
   "source": [
    "str_list = []\n",
    "for i in result_li:\n",
    "    dict_us = {'이름':i.find('a').text, '분양가':i.find('strong').text, '유형': i.find_all('dd')[1].text.split('|')[0], '분양유형':i.find_all('dd')[1].text.split('|')[1], '세대수': i.find_all('dd')[2].text.split('|')[0], '평형' : i.find_all('dd')[2].text.split('|')[1] }\n",
    "    str_list.append(dict_us)\n",
    "print(str_list)"
   ]
  },
  {
   "cell_type": "code",
   "execution_count": null,
   "metadata": {},
   "outputs": [],
   "source": []
  }
 ]
}