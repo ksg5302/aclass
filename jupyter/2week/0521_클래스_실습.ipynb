{
 "metadata": {
  "language_info": {
   "codemirror_mode": {
    "name": "ipython",
    "version": 3
   },
   "file_extension": ".py",
   "mimetype": "text/x-python",
   "name": "python",
   "nbconvert_exporter": "python",
   "pygments_lexer": "ipython3",
   "version": "3.7.10"
  },
  "orig_nbformat": 2,
  "kernelspec": {
   "name": "python3710jvsc74a57bd02ea7195499a1576fe7ab555b5ff36e6a3a5bfa5aeb4a95d73588db682146415a",
   "display_name": "Python 3.7.10 64-bit ('aclass': conda)"
  }
 },
 "nbformat": 4,
 "nbformat_minor": 2,
 "cells": [
  {
   "source": [
    "## 실습01 : Car클래스를만드세요"
   ],
   "cell_type": "markdown",
   "metadata": {}
  },
  {
   "cell_type": "code",
   "execution_count": 6,
   "metadata": {},
   "outputs": [],
   "source": [
    "class Car:\n",
    "    car_counts = 0\n",
    "    def __init__(self, name, cc, year):\n",
    "        self.name = name\n",
    "        self.cc = cc\n",
    "        self.year = year\n",
    "        Car.car_counts +=1\n",
    "    \n",
    "    def car_name(self):\n",
    "        print(self.name)\n",
    "\n",
    "    def car_name_change(self, new):\n",
    "        self.name = new\n",
    "\n",
    "    def car_size(self):\n",
    "        if (self.cc < 1000):\n",
    "            print(\"소형\")\n",
    "        elif (self.cc >2000):\n",
    "            print(\"대형\")\n",
    "        else:\n",
    "            print(\"중형\")\n",
    "    \n",
    "    def car_count(self):\n",
    "        print(Car.car_counts)\n"
   ]
  },
  {
   "cell_type": "code",
   "execution_count": 7,
   "metadata": {},
   "outputs": [],
   "source": [
    "a = Car(\"k3\", 1500, 20210521)\n",
    "b = Car(\"k5\", 2000, 20210501)\n",
    "c = Car(\"k9\", 4000, 20210221)"
   ]
  },
  {
   "cell_type": "code",
   "execution_count": 13,
   "metadata": {},
   "outputs": [
    {
     "output_type": "stream",
     "name": "stdout",
     "text": [
      "3\nmornig\nspark\n중형\n"
     ]
    }
   ],
   "source": [
    "a.car_count()\n",
    "a.car_name()\n",
    "a.car_name_change(\"spark\")\n",
    "a.car_name()\n",
    "a.car_size()"
   ]
  },
  {
   "cell_type": "code",
   "execution_count": null,
   "metadata": {},
   "outputs": [],
   "source": []
  }
 ]
}