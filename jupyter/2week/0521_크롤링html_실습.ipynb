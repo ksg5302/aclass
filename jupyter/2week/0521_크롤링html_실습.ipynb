{
 "metadata": {
  "language_info": {
   "codemirror_mode": {
    "name": "ipython",
    "version": 3
   },
   "file_extension": ".py",
   "mimetype": "text/x-python",
   "name": "python",
   "nbconvert_exporter": "python",
   "pygments_lexer": "ipython3",
   "version": "3.7.10"
  },
  "orig_nbformat": 2,
  "kernelspec": {
   "name": "python3710jvsc74a57bd02ea7195499a1576fe7ab555b5ff36e6a3a5bfa5aeb4a95d73588db682146415a",
   "display_name": "Python 3.7.10 64-bit ('aclass': conda)"
  }
 },
 "nbformat": 4,
 "nbformat_minor": 2,
 "cells": [
  {
   "cell_type": "code",
   "execution_count": 1,
   "metadata": {},
   "outputs": [],
   "source": [
    "from bs4 import BeautifulSoup\n",
    "import requests"
   ]
  },
  {
   "source": [
    "## 실습 01 : HTML문서내에ID가cook인태그내의내용을출력해주세요"
   ],
   "cell_type": "markdown",
   "metadata": {}
  },
  {
   "cell_type": "code",
   "execution_count": 149,
   "metadata": {},
   "outputs": [
    {
     "output_type": "stream",
     "name": "stdout",
     "text": [
      "\n    전통적인 요리법이나 양식은 상당한 차이가 있지만, 이탈리아 요리는 다른 국가의 요리 문화에서 다양한 영감을 줄 만큼 다양하고 혁신적인 것으로 평가되고 있다. 각 지방마다 고유의 특색이 있어 그 양식도 다양하지만 크게 북부와 남부로 나눌 수 있다. 다른 나라와 국경을 맞대고 있던 북부 지방은 산업화되어 경제적으로 풍족하고 농업이 발달해 쌀이 풍부해 유제품이 다양한 반면 경제적으로 침체되었던 남부 지방은 올리브와 토마토, 모차렐라 치즈가 유명하고 특별히 해산물을 활용한 요리가 많다. 식재료와 치즈 등의 차이는 파스타의 종류와 소스와 수프 등도 다름을 의미한다.\n\n"
     ]
    }
   ],
   "source": [
    "URL = 'https://scrapying-study.firebaseapp.com/01/'\n",
    "response=requests.get(URL)\n",
    "soup=BeautifulSoup(response.text,\"html.parser\")\n",
    "result=soup.find('p',attrs={'id':'cook'})\n",
    "print(result.text)"
   ]
  },
  {
   "source": [
    "## 실습 02 : HTML문서내에TABLE내에th와td에있는값들을크롤링해아래와같은딕셔너리형태를만들어보세요"
   ],
   "cell_type": "markdown",
   "metadata": {}
  },
  {
   "cell_type": "code",
   "execution_count": 150,
   "metadata": {},
   "outputs": [],
   "source": [
    "URL = 'https://scrapying-study.firebaseapp.com/01/'\n",
    "response=requests.get(URL)\n",
    "soup=BeautifulSoup(response.text,\"html.parser\")\n",
    "result = soup.find('table')"
   ]
  },
  {
   "cell_type": "code",
   "execution_count": 151,
   "metadata": {},
   "outputs": [],
   "source": [
    "re_keys = result.find_all('th')\n",
    "re_info = result.find_all('td')"
   ]
  },
  {
   "cell_type": "code",
   "execution_count": 152,
   "metadata": {},
   "outputs": [],
   "source": [
    "info_list = []\n",
    "info_list.append({re_keys[0].text:re_info[0].text,re_keys[1].text:re_info[1].text})\n",
    "info_list.append({re_keys[0].text:re_info[2].text,re_keys[1].text:re_info[3].text})"
   ]
  },
  {
   "cell_type": "code",
   "execution_count": 153,
   "metadata": {},
   "outputs": [
    {
     "output_type": "execute_result",
     "data": {
      "text/plain": [
       "[{'이름': '이몽룡', '나이': '34'}, {'이름': '홍길동', '나이': '23'}]"
      ]
     },
     "metadata": {},
     "execution_count": 153
    }
   ],
   "source": [
    "info_list"
   ]
  },
  {
   "source": [
    "## 실습 03 HTML문서내에모든A태그에링크된페이지에있는내용을읽어출력해주세요"
   ],
   "cell_type": "markdown",
   "metadata": {}
  },
  {
   "cell_type": "code",
   "execution_count": 165,
   "metadata": {},
   "outputs": [
    {
     "output_type": "stream",
     "name": "stdout",
     "text": [
      "크롤링 연습사이트 01-1 페이지입니다.\n",
      "크롤링 연습사이트 01-2 페이지입니다.\n",
      "크롤링 연습사이트 01-3 페이지입니다.\n",
      "크롤링 연습사이트 01-4 페이지입니다.\n"
     ]
    }
   ],
   "source": [
    "URL = 'https://scrapying-study.firebaseapp.com/01/'\n",
    "response=requests.get(URL)\n",
    "soup=BeautifulSoup(response.text,\"html.parser\")\n",
    "result = soup.find_all('a')\n",
    "\n",
    "for i in result:\n",
    "    URL_2 = URL + i.attrs[\"href\"]\n",
    "    response_2 = requests.get(URL_2)\n",
    "    soup_2 = BeautifulSoup(response_2.text,'html.parser')\n",
    "    result_2=soup_2.find(\"p\")\n",
    "    print(result_2.text.strip())\n"
   ]
  },
  {
   "cell_type": "code",
   "execution_count": null,
   "metadata": {},
   "outputs": [],
   "source": []
  }
 ]
}