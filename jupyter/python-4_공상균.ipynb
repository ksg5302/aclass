{
 "cells": [
  {
   "cell_type": "markdown",
   "metadata": {},
   "source": [
    "### Exercise 53.  함수\n",
    "Abangers를 출력하는 abangers() 함수를 만들어보고, 호출해보세요."
   ]
  },
  {
   "cell_type": "code",
   "execution_count": 1,
   "metadata": {},
   "outputs": [
    {
     "name": "stdout",
     "output_type": "stream",
     "text": [
      "Abangers\n"
     ]
    }
   ],
   "source": [
    "def abangers():\n",
    "    print(\"Abangers\")\n",
    "\n",
    "abangers()"
   ]
  },
  {
   "cell_type": "markdown",
   "metadata": {
    "collapsed": true
   },
   "source": [
    "### Exercise 54.  함수\n",
    "임의의 문자열을 넣으면 해당 문자열을 출력하는 abangers() 함수를 만들어보고, 호출해보세요.\n",
    "```python\n",
    "출력 예:\n",
    "abangers(\"Go go Abangers!\")\n",
    "\n",
    "Go go Abangers!\n",
    "```\n"
   ]
  },
  {
   "cell_type": "code",
   "execution_count": 3,
   "metadata": {},
   "outputs": [
    {
     "name": "stdout",
     "output_type": "stream",
     "text": [
      "Go go Abangers!\n"
     ]
    }
   ],
   "source": [
    "def abangers(x):\n",
    "    print(x)\n",
    "\n",
    "abangers(\"Go go Abangers!\")"
   ]
  },
  {
   "cell_type": "markdown",
   "metadata": {},
   "source": [
    "### Exercise 55. 함수\n",
    "임의의 세 개의 숫자를 인자로 넣으면 세 숫자를 더한 값을 출력해주는 함수를 만들어보고, 호출해보세요.\n",
    "```python\n",
    "출력 예:\n",
    "plus(1, 2, 3)\n",
    "\n",
    "6\n",
    "```"
   ]
  },
  {
   "cell_type": "code",
   "execution_count": 4,
   "metadata": {},
   "outputs": [
    {
     "name": "stdout",
     "output_type": "stream",
     "text": [
      "6\n"
     ]
    }
   ],
   "source": [
    "def plus(i,j,k):\n",
    "    print(i+j+k)\n",
    "\n",
    "plus(1,2,3)  "
   ]
  },
  {
   "cell_type": "markdown",
   "metadata": {},
   "source": [
    "### Exercise 56. 함수 \n",
    "임의의 두 개의 숫자를 인자로 넣으면 두 개의 숫자를 곱한 값을 리턴해주는 함수를 만들어보고, 특정 변수에 해당 리턴값을 넣고, 호출해보세요.\n",
    "```python\n",
    "출력 예:\n",
    "data = multiply(2, 3)\n",
    "print (data)\n",
    "\n",
    "6\n",
    "```"
   ]
  },
  {
   "cell_type": "code",
   "execution_count": 5,
   "metadata": {},
   "outputs": [
    {
     "name": "stdout",
     "output_type": "stream",
     "text": [
      "6\n"
     ]
    }
   ],
   "source": [
    "def multiply(x,y):\n",
    "    return(x*y)\n",
    "\n",
    "data = multiply(2,3)\n",
    "print(data)"
   ]
  },
  {
   "cell_type": "markdown",
   "metadata": {},
   "source": [
    "### Exercise 57. 함수\n",
    "사칙연산을 지원하는 함수를 다음과 같이 만들고, 특정 변수에 해당 리턴값을 넣고, 호출해보세요.\n",
    "\n",
    "```python\n",
    "첫번째 인자: 숫자\n",
    "두번째 인자: 숫자\n",
    "세번째 인자: \"*\" 또는 \"+\"\n",
    "\n",
    "세번째 인자에 따라 첫번째 인자와 두번째 인자를 곱하거나, 더한 값을 리턴\n",
    "만약, 세번째 인자가 \"*\" 또는 \"+\" 가 아니라면, 0을 리턴\n",
    "출력 예1:\n",
    "data = cal(2, 3, \"*\")\n",
    "print (data)\n",
    "\n",
    "6\n",
    "\n",
    "출력 예2:\n",
    "data = cal(2, 3, \"+\")\n",
    "print (data)\n",
    "\n",
    "5\n",
    "\n",
    "출력 예3:\n",
    "data = cal(2, 3, \"-\")\n",
    "print (data)\n",
    "\n",
    "0\n",
    "```"
   ]
  },
  {
   "cell_type": "code",
   "execution_count": 8,
   "metadata": {},
   "outputs": [
    {
     "name": "stdout",
     "output_type": "stream",
     "text": [
      "5\n",
      "6\n",
      "0\n"
     ]
    }
   ],
   "source": [
    "def cal(x,y,z):\n",
    "    if z == \"+\":\n",
    "        return(x+y)\n",
    "    elif z == \"*\":\n",
    "        return(x*y)\n",
    "    else:\n",
    "        return(0)\n",
    "    \n",
    "data = cal(2,3,\"+\")\n",
    "print(data)\n",
    "\n",
    "data = cal(2, 3, \"*\")\n",
    "print (data)\n",
    "\n",
    "data = cal(2, 3, \"-\")\n",
    "print (data)"
   ]
  },
  {
   "cell_type": "markdown",
   "metadata": {},
   "source": [
    "### Exercise 58. 함수\n",
    "Exercise 68에서 작성한 함수에 사칙연산 기능을 \"-\" (빼기) 와 \"/\" (나누기) 도 지원하도록 추가해서, 호출해보세요.<br>\n",
    "단, \"/\" 일 경우, 두번째 인자가 0이면, -1 을 리턴하도록 작성하세요."
   ]
  },
  {
   "cell_type": "code",
   "execution_count": 13,
   "metadata": {},
   "outputs": [
    {
     "name": "stdout",
     "output_type": "stream",
     "text": [
      "-1\n",
      "0.6666666666666666\n",
      "-1\n"
     ]
    }
   ],
   "source": [
    "def cal(x,y,z):\n",
    "    if z == \"+\":\n",
    "        return(x+y)\n",
    "    elif z == \"*\":\n",
    "        return(x*y)\n",
    "    elif z ==\"-\":\n",
    "        return(x-y)\n",
    "    elif z ==\"/\":\n",
    "        if y == 0:\n",
    "            return(-1)\n",
    "        else:\n",
    "            return(x/y)\n",
    "    else:\n",
    "        return(0)\n",
    "\n",
    "    \n",
    "data = cal(2, 3, \"-\")\n",
    "print (data)\n",
    "\n",
    "data = cal(2, 3, \"/\")\n",
    "print (data)\n",
    "\n",
    "data = cal(2, 0, \"/\")\n",
    "print (data)"
   ]
  },
  {
   "cell_type": "markdown",
   "metadata": {},
   "source": [
    "### Exercise 59. 함수\n",
    "다음과 같은 기능을 하는 함수를 작성하고, 호출해보세요.\n",
    "```python\n",
    "첫번째 인자: 문자열\n",
    "두번째 인자: 숫자\n",
    "리턴값: 문자열을 숫자만큼 넣은 리스트\n",
    "출력 예1:\n",
    "print_string(\"Fun\", 3)\n",
    "\n",
    "[\"Fun\", \"Fun\", \"Fun\"]\n",
    "```"
   ]
  },
  {
   "cell_type": "code",
   "execution_count": 14,
   "metadata": {},
   "outputs": [
    {
     "name": "stdout",
     "output_type": "stream",
     "text": [
      "['Fun', 'Fun', 'Fun']\n"
     ]
    }
   ],
   "source": [
    "def print_string(user_str, user_count):\n",
    "    user_list=[]\n",
    "    for i in range(user_count):\n",
    "        user_list.append(user_str)\n",
    "    return(print(user_list))\n",
    "\n",
    "print_string(\"Fun\",3)"
   ]
  },
  {
   "cell_type": "code",
   "execution_count": null,
   "metadata": {},
   "outputs": [],
   "source": []
  }
 ],
 "metadata": {
  "kernelspec": {
   "display_name": "Python 3",
   "language": "python",
   "name": "python3"
  },
  "language_info": {
   "codemirror_mode": {
    "name": "ipython",
    "version": 3
   },
   "file_extension": ".py",
   "mimetype": "text/x-python",
   "name": "python",
   "nbconvert_exporter": "python",
   "pygments_lexer": "ipython3",
   "version": "3.7.9"
  },
  "nbTranslate": {
   "displayLangs": [
    "*"
   ],
   "hotkey": "alt-t",
   "langInMainMenu": true,
   "sourceLang": "en",
   "targetLang": "fr",
   "useGoogleTranslate": true
  }
 },
 "nbformat": 4,
 "nbformat_minor": 2
}
