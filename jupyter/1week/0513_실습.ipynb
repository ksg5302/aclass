{
 "cells": [
  {
   "cell_type": "code",
   "execution_count": 4,
   "metadata": {},
   "outputs": [
    {
     "name": "stdout",
     "output_type": "stream",
     "text": [
      "2\n"
     ]
    }
   ],
   "source": [
    "a =  [32,45,2,5,76]\n",
    "small = a[0]\n",
    "for i in a:\n",
    "    if i<small:\n",
    "        small = i\n",
    "print(small)"
   ]
  },
  {
   "cell_type": "code",
   "execution_count": 6,
   "metadata": {},
   "outputs": [
    {
     "name": "stdout",
     "output_type": "stream",
     "text": [
      "76\n"
     ]
    }
   ],
   "source": [
    "a =  [32,45,2,5,76]\n",
    "large = a[0]\n",
    "for i in a:\n",
    "    if i>large:\n",
    "        large = i\n",
    "print(large)"
   ]
  },
  {
   "cell_type": "code",
   "execution_count": 7,
   "metadata": {},
   "outputs": [
    {
     "data": {
      "text/plain": [
       "2"
      ]
     },
     "execution_count": 7,
     "metadata": {},
     "output_type": "execute_result"
    }
   ],
   "source": [
    "a =  [32,45,2,5,76]\n",
    "a.sort()\n",
    "a[0]"
   ]
  },
  {
   "cell_type": "code",
   "execution_count": 8,
   "metadata": {},
   "outputs": [
    {
     "data": {
      "text/plain": [
       "76"
      ]
     },
     "execution_count": 8,
     "metadata": {},
     "output_type": "execute_result"
    }
   ],
   "source": [
    "a =  [32,45,2,5,76]\n",
    "a.sort(reverse=True)\n",
    "a[0]"
   ]
  },
  {
   "cell_type": "code",
   "execution_count": 9,
   "metadata": {},
   "outputs": [
    {
     "data": {
      "text/plain": [
       "2"
      ]
     },
     "execution_count": 9,
     "metadata": {},
     "output_type": "execute_result"
    }
   ],
   "source": [
    "a =  [32,45,2,5,76]\n",
    "min(a)"
   ]
  },
  {
   "cell_type": "code",
   "execution_count": 10,
   "metadata": {},
   "outputs": [
    {
     "data": {
      "text/plain": [
       "76"
      ]
     },
     "execution_count": 10,
     "metadata": {},
     "output_type": "execute_result"
    }
   ],
   "source": [
    "a =  [32,45,2,5,76]\n",
    "max(a)"
   ]
  },
  {
   "cell_type": "code",
   "execution_count": 12,
   "metadata": {},
   "outputs": [
    {
     "data": {
      "text/plain": [
       "['사과', '배', '옥수수', '당근']"
      ]
     },
     "execution_count": 12,
     "metadata": {},
     "output_type": "execute_result"
    }
   ],
   "source": [
    "fruit=\"사과,배,옥수수,당근\"\n",
    "fruit_list = fruit.split(\",\")\n",
    "fruit_list"
   ]
  },
  {
   "cell_type": "markdown",
   "metadata": {},
   "source": [
    " ## 문자열 연습\n",
    "### 1번"
   ]
  },
  {
   "cell_type": "code",
   "execution_count": 13,
   "metadata": {},
   "outputs": [
    {
     "data": {
      "text/plain": [
       "'파'"
      ]
     },
     "execution_count": 13,
     "metadata": {},
     "output_type": "execute_result"
    }
   ],
   "source": [
    "temp_string =\"파이썬 문자열 연습\"\n",
    "temp_string[0]"
   ]
  },
  {
   "cell_type": "code",
   "execution_count": 14,
   "metadata": {},
   "outputs": [
    {
     "data": {
      "text/plain": [
       "'습'"
      ]
     },
     "execution_count": 14,
     "metadata": {},
     "output_type": "execute_result"
    }
   ],
   "source": [
    "temp_string[9]"
   ]
  },
  {
   "cell_type": "code",
   "execution_count": 15,
   "metadata": {},
   "outputs": [
    {
     "data": {
      "text/plain": [
       "'썬 문자'"
      ]
     },
     "execution_count": 15,
     "metadata": {},
     "output_type": "execute_result"
    }
   ],
   "source": [
    "temp_string[2:6]"
   ]
  },
  {
   "cell_type": "code",
   "execution_count": 17,
   "metadata": {},
   "outputs": [
    {
     "data": {
      "text/plain": [
       "['에스프레소', '아메리카노', '카페라테', '카푸치노']"
      ]
     },
     "execution_count": 17,
     "metadata": {},
     "output_type": "execute_result"
    }
   ],
   "source": [
    "coffee = \"에스프레소,아메리카노,카페라테,카푸치노\"\n",
    "coffee.split(',')"
   ]
  },
  {
   "cell_type": "code",
   "execution_count": 18,
   "metadata": {},
   "outputs": [
    {
     "data": {
      "text/plain": [
       "['에스프레소', '아메리카노', '카페라테', '카푸치노']"
      ]
     },
     "execution_count": 18,
     "metadata": {},
     "output_type": "execute_result"
    }
   ],
   "source": [
    "\"에스프레소 아메리카노 카페라테 카푸치노\".split(\" \")"
   ]
  },
  {
   "cell_type": "code",
   "execution_count": 24,
   "metadata": {},
   "outputs": [
    {
     "data": {
      "text/plain": [
       "['에스프레소', '아메리카노', '카페라테', '카푸치노']"
      ]
     },
     "execution_count": 24,
     "metadata": {},
     "output_type": "execute_result"
    }
   ],
   "source": [
    "\"에스프레소 \\n\\n 아메리카노 \\n 카페라테 카푸치노\\n\\n\".split(maxsplit=-1)"
   ]
  },
  {
   "cell_type": "code",
   "execution_count": 34,
   "metadata": {},
   "outputs": [
    {
     "name": "stdout",
     "output_type": "stream",
     "text": [
      "['에스프레소', '아메리카노', '카페라테', '카푸치노']\n"
     ]
    }
   ],
   "source": [
    "coffee = \" 에스프레소, 아메리카노, 카페라테, 카푸치노 \"\n",
    "coffee_list =[]\n",
    "\n",
    "for i in coffee.split(\",\"):  \n",
    "    coffee_list.append(i.strip(\" \"))\n",
    "    \n",
    "print(coffee_list)"
   ]
  },
  {
   "cell_type": "code",
   "execution_count": null,
   "metadata": {},
   "outputs": [],
   "source": []
  },
  {
   "cell_type": "markdown",
   "metadata": {},
   "source": [
    "# 리스트 컴프리핸션"
   ]
  },
  {
   "cell_type": "code",
   "execution_count": 39,
   "metadata": {},
   "outputs": [
    {
     "data": {
      "text/plain": [
       "[5, 6, 7, 8, 9, 10, 11, 12, 13, 14]"
      ]
     },
     "execution_count": 39,
     "metadata": {},
     "output_type": "execute_result"
    }
   ],
   "source": [
    "c = [i + 5 for i in range(10)]\n",
    "c"
   ]
  },
  {
   "cell_type": "code",
   "execution_count": 40,
   "metadata": {},
   "outputs": [
    {
     "data": {
      "text/plain": [
       "[0, 3, 6, 9, 12, 15, 18, 21, 24, 27]"
      ]
     },
     "execution_count": 40,
     "metadata": {},
     "output_type": "execute_result"
    }
   ],
   "source": [
    "b = [i * 3 for i in range(10)]\n",
    "b"
   ]
  },
  {
   "cell_type": "code",
   "execution_count": 41,
   "metadata": {},
   "outputs": [
    {
     "data": {
      "text/plain": [
       "[0, 1, 2, 3, 4, 5, 6, 7, 8, 9]"
      ]
     },
     "execution_count": 41,
     "metadata": {},
     "output_type": "execute_result"
    }
   ],
   "source": [
    "a = [i for i in range(10)]\n",
    "a"
   ]
  },
  {
   "cell_type": "code",
   "execution_count": 42,
   "metadata": {},
   "outputs": [
    {
     "data": {
      "text/plain": [
       "[0, 2, 4, 6, 8]"
      ]
     },
     "execution_count": 42,
     "metadata": {},
     "output_type": "execute_result"
    }
   ],
   "source": [
    "d = [i for i in range(10) if i % 2 ==0]\n",
    "d"
   ]
  },
  {
   "cell_type": "code",
   "execution_count": 45,
   "metadata": {},
   "outputs": [
    {
     "data": {
      "text/plain": [
       "[1, 3, 5, 7, 9]"
      ]
     },
     "execution_count": 45,
     "metadata": {},
     "output_type": "execute_result"
    }
   ],
   "source": [
    "e = [i for i in range(10) if i % 2 == 1]\n",
    "e"
   ]
  },
  {
   "cell_type": "code",
   "execution_count": 47,
   "metadata": {},
   "outputs": [
    {
     "data": {
      "text/plain": [
       "[2,\n",
       " 4,\n",
       " 6,\n",
       " 8,\n",
       " 10,\n",
       " 12,\n",
       " 14,\n",
       " 16,\n",
       " 18,\n",
       " 3,\n",
       " 6,\n",
       " 9,\n",
       " 12,\n",
       " 15,\n",
       " 18,\n",
       " 21,\n",
       " 24,\n",
       " 27,\n",
       " 4,\n",
       " 8,\n",
       " 12,\n",
       " 16,\n",
       " 20,\n",
       " 24,\n",
       " 28,\n",
       " 32,\n",
       " 36,\n",
       " 5,\n",
       " 10,\n",
       " 15,\n",
       " 20,\n",
       " 25,\n",
       " 30,\n",
       " 35,\n",
       " 40,\n",
       " 45,\n",
       " 6,\n",
       " 12,\n",
       " 18,\n",
       " 24,\n",
       " 30,\n",
       " 36,\n",
       " 42,\n",
       " 48,\n",
       " 54,\n",
       " 7,\n",
       " 14,\n",
       " 21,\n",
       " 28,\n",
       " 35,\n",
       " 42,\n",
       " 49,\n",
       " 56,\n",
       " 63,\n",
       " 8,\n",
       " 16,\n",
       " 24,\n",
       " 32,\n",
       " 40,\n",
       " 48,\n",
       " 56,\n",
       " 64,\n",
       " 72,\n",
       " 9,\n",
       " 18,\n",
       " 27,\n",
       " 36,\n",
       " 45,\n",
       " 54,\n",
       " 63,\n",
       " 72,\n",
       " 81]"
      ]
     },
     "execution_count": 47,
     "metadata": {},
     "output_type": "execute_result"
    }
   ],
   "source": [
    "f = [i * j for i in range(2,10) for j in range(1,10)]\n",
    "f"
   ]
  },
  {
   "cell_type": "code",
   "execution_count": 50,
   "metadata": {},
   "outputs": [
    {
     "data": {
      "text/plain": [
       "{'name': 'tom', 'age': '20', 'address': 'incheon'}"
      ]
     },
     "execution_count": 50,
     "metadata": {},
     "output_type": "execute_result"
    }
   ],
   "source": [
    "keys = [\"name\",\"age\",\"address\"]\n",
    "user = [\"tom\",\"20\",\"incheon\"]\n",
    "dicdic = {keys[i]:user[i] for i in range(0,3)}\n",
    "dicdic"
   ]
  },
  {
   "cell_type": "code",
   "execution_count": 52,
   "metadata": {},
   "outputs": [
    {
     "data": {
      "text/plain": [
       "[('name', 'tom'), ('age', '20'), ('address', 'incheon')]"
      ]
     },
     "execution_count": 52,
     "metadata": {},
     "output_type": "execute_result"
    }
   ],
   "source": [
    "keys = [\"name\",\"age\",\"address\"]\n",
    "user = [\"tom\",\"20\",\"incheon\"]\n",
    "\n",
    "list(zip(keys,user))"
   ]
  },
  {
   "cell_type": "code",
   "execution_count": 54,
   "metadata": {},
   "outputs": [
    {
     "name": "stdout",
     "output_type": "stream",
     "text": [
      "name tom\n",
      "age 20\n",
      "address incheon\n"
     ]
    }
   ],
   "source": [
    "for k, u in zip(keys,user):\n",
    "    print(k,u)"
   ]
  },
  {
   "cell_type": "code",
   "execution_count": null,
   "metadata": {},
   "outputs": [],
   "source": []
  },
  {
   "cell_type": "markdown",
   "metadata": {},
   "source": [
    "# 실습 01"
   ]
  },
  {
   "cell_type": "code",
   "execution_count": 57,
   "metadata": {},
   "outputs": [
    {
     "data": {
      "text/plain": [
       "['school', 'science', 'mountain']"
      ]
     },
     "execution_count": 57,
     "metadata": {},
     "output_type": "execute_result"
    }
   ],
   "source": [
    "word=['school','game','piano','science','hotel','mountain']\n",
    "\n",
    "new_word =[ i for i in word if len(i)>5 ]\n",
    "new_word"
   ]
  },
  {
   "cell_type": "code",
   "execution_count": 58,
   "metadata": {},
   "outputs": [
    {
     "data": {
      "text/plain": [
       "[6, 4, 5, 7, 5, 8]"
      ]
     },
     "execution_count": 58,
     "metadata": {},
     "output_type": "execute_result"
    }
   ],
   "source": [
    "count_word = [ len(i) for i in word ]\n",
    "count_word"
   ]
  },
  {
   "cell_type": "markdown",
   "metadata": {},
   "source": [
    "# 실습 02"
   ]
  },
  {
   "cell_type": "code",
   "execution_count": 61,
   "metadata": {},
   "outputs": [
    {
     "data": {
      "text/plain": [
       "[[20, 60], [120, 200], [300, 420]]"
      ]
     },
     "execution_count": 61,
     "metadata": {},
     "output_type": "execute_result"
    }
   ],
   "source": [
    "a = [[10,20],[30,40],[50,60]]\n",
    "b = [[2,3],[4,5],[6,7]]\n",
    "c=[]\n",
    "for i in range(len(a)):\n",
    "    temp = []\n",
    "    for j in range(len(a[i])):\n",
    "        temp.append(a[i][j]*b[i][j])\n",
    "    c.append(temp)\n",
    "c"
   ]
  },
  {
   "cell_type": "markdown",
   "metadata": {},
   "source": [
    "# 실습 03"
   ]
  },
  {
   "cell_type": "code",
   "execution_count": 66,
   "metadata": {},
   "outputs": [
    {
     "name": "stdout",
     "output_type": "stream",
     "text": [
      "[[1, 2], [3, 4], [5, 6]]\n"
     ]
    }
   ],
   "source": [
    "a=[]\n",
    "k=0\n",
    "for i in range(3):\n",
    "    temp=[]\n",
    "    for j in range(2):\n",
    "        k += 1\n",
    "        temp.append(k)\n",
    "    a.append(temp)\n",
    "print(a)\n"
   ]
  },
  {
   "cell_type": "code",
   "execution_count": 67,
   "metadata": {},
   "outputs": [
    {
     "name": "stdout",
     "output_type": "stream",
     "text": [
      "[[1, 2], [3, 4], [5, 6]]\n"
     ]
    }
   ],
   "source": [
    "a=[]\n",
    "for i in range(3):\n",
    "    temp=[]\n",
    "    for j in range(2):\n",
    "        temp.append(i*2+1+j)\n",
    "    a.append(temp)\n",
    "print(a)"
   ]
  },
  {
   "cell_type": "code",
   "execution_count": null,
   "metadata": {},
   "outputs": [],
   "source": []
  },
  {
   "cell_type": "markdown",
   "metadata": {},
   "source": [
    "# 16장 파일 입출력"
   ]
  },
  {
   "cell_type": "code",
   "execution_count": 77,
   "metadata": {},
   "outputs": [],
   "source": [
    "file = open(\"file.txt\",\"w\",encoding='utf-8')\n",
    "file.write('''First File\n",
    "안녕하세요''')\n",
    "file.close()\n"
   ]
  },
  {
   "cell_type": "code",
   "execution_count": 80,
   "metadata": {},
   "outputs": [
    {
     "name": "stdout",
     "output_type": "stream",
     "text": [
      "First File\n",
      "안녕하세요\n"
     ]
    }
   ],
   "source": [
    "file = open(\"file.txt\",\"r\", encoding=\"utf-8\")\n",
    "text = file.read()\n",
    "file.close()\n",
    "print(text)"
   ]
  },
  {
   "cell_type": "code",
   "execution_count": 88,
   "metadata": {},
   "outputs": [
    {
     "name": "stdout",
     "output_type": "stream",
     "text": [
      "First File\n",
      "안녕하세요\n"
     ]
    }
   ],
   "source": [
    "with open(\"file.txt\",\"r\",encoding=\"utf-8\") as file:\n",
    "    text = file.read()\n",
    "    print(text)"
   ]
  },
  {
   "cell_type": "code",
   "execution_count": 102,
   "metadata": {},
   "outputs": [],
   "source": [
    "import pickle"
   ]
  },
  {
   "cell_type": "code",
   "execution_count": 104,
   "metadata": {},
   "outputs": [],
   "source": [
    "import pickle\n",
    "text = ['FirstFile','SecondLine']\n",
    "with open('data.pkl','wb')as file:#data파일을바이너리쓰기모드로열기\n",
    "    pickle.dump(text,file)"
   ]
  },
  {
   "cell_type": "code",
   "execution_count": 110,
   "metadata": {},
   "outputs": [
    {
     "name": "stdout",
     "output_type": "stream",
     "text": [
      "<class 'list'>\n"
     ]
    }
   ],
   "source": [
    "with open('data.pkl','rb')as file:#data파일을바이너리읽기모드로열기\n",
    "    data=pickle.load(file)\n",
    "    print(type(data))\n"
   ]
  },
  {
   "cell_type": "code",
   "execution_count": 99,
   "metadata": {},
   "outputs": [
    {
     "name": "stdout",
     "output_type": "stream",
     "text": [
      "24\n"
     ]
    }
   ],
   "source": [
    "name = \"tom\"\n",
    "age=24\n",
    "address=\"서울시 마포구\"\n",
    "score = {'python':90,'deeplearning':95,'database':85}\n",
    "\n",
    "with open(\"data2.pkl\",\"wb\")as file:\n",
    "    pickle.dump(name, file)\n",
    "    pickle.dump(age, file)\n",
    "    pickle.dump(address, file)\n",
    "    pickle.dump(score, file)\n",
    "    print(age)\n"
   ]
  },
  {
   "cell_type": "code",
   "execution_count": 100,
   "metadata": {},
   "outputs": [
    {
     "name": "stdout",
     "output_type": "stream",
     "text": [
      "tom\n"
     ]
    }
   ],
   "source": [
    "\n",
    "with open('data2.pkl','rb')as file:\n",
    "    name2 = pickle.load(file)\n",
    "    age2 = pickle.load(file)\n",
    "    address2 = pickle.load(file)\n",
    "    scores2 = pickle.load(file)\n",
    "    print(name2)\n",
    "    "
   ]
  },
  {
   "cell_type": "markdown",
   "metadata": {},
   "source": [
    "# 실습01"
   ]
  },
  {
   "cell_type": "code",
   "execution_count": 119,
   "metadata": {},
   "outputs": [
    {
     "name": "stdout",
     "output_type": "stream",
     "text": [
      "1(가위) 2(바위) 3(보)를 입력해주세요 3\n",
      "유저 : 보, 컴퓨터 : 보\n",
      "1(가위) 2(바위) 3(보)를 입력해주세요 2\n",
      "유저 : 바위, 컴퓨터 : 가위\n",
      "1(가위) 2(바위) 3(보)를 입력해주세요 1\n",
      "유저 : 가위, 컴퓨터 : 바위\n",
      "1(가위) 2(바위) 3(보)를 입력해주세요 3\n",
      "유저 : 보, 컴퓨터 : 보\n",
      "1(가위) 2(바위) 3(보)를 입력해주세요 2\n",
      "유저 : 바위, 컴퓨터 : 바위\n",
      "1(가위) 2(바위) 3(보)를 입력해주세요 1\n",
      "유저 : 가위, 컴퓨터 : 보\n",
      "1(가위) 2(바위) 3(보)를 입력해주세요 4\n",
      "게임종료(전체:15, 승리:3)\n"
     ]
    }
   ],
   "source": [
    "import random\n",
    "import os.path\n",
    "\n",
    "total_count = 0\n",
    "win_count = 0\n",
    "\n",
    "if os.path.isfile(\"random.pkl\"):\n",
    "    with open(\"random.pkl\", \"rb\") as file:\n",
    "        total_count=pickle.load(file)\n",
    "        win_count=pickle.load(file)\n",
    "else:\n",
    "    with open(\"random.pkl\", \"wb\") as file:\n",
    "        pickle.dump(total_count, file)\n",
    "        pickle.dump(win_count, file)\n",
    "\n",
    "tb = {1:\"가위\", 2:\"바위\", 3:\"보\"}\n",
    "\n",
    "while True:\n",
    "    cp = random.randint(1,3)\n",
    "    us = int(input(\"1(가위) 2(바위) 3(보)를 입력해주세요 \"))\n",
    "    \n",
    "    if us not in [1,2,3]:\n",
    "        print(\"게임종료(전체:{}, 승리:{})\".format(total_count,win_count ))\n",
    "        with open(\"random.pkl\", \"wb\") as file:\n",
    "            pickle.dump(total_count, file)\n",
    "            pickle.dump(win_count, file)\n",
    "        break\n",
    "        \n",
    "    print(\"유저 : {}, 컴퓨터 : {}\".format(tb[us], tb[cp]))\n",
    "    total_count +=1\n",
    "    \n",
    "    if [us,cp] in [[1,3],[2,1],[3,2]]:\n",
    "        win_count +=1\n"
   ]
  },
  {
   "cell_type": "markdown",
   "metadata": {},
   "source": [
    "## 실습2"
   ]
  },
  {
   "cell_type": "code",
   "execution_count": 167,
   "metadata": {},
   "outputs": [
    {
     "name": "stdout",
     "output_type": "stream",
     "text": [
      "메뉴를 선택해주세요 1-입력, 2-조회, 3-삭제, 0-종료3\n",
      "[0]이름 : 공공  수학 : 23  과학 : 43  영어 : 54  \n",
      "[1]이름 : 공상균  수학 : 20  과학 : 30  영어 : 40  \n",
      "삭제할 번호를 입력해 주세요 : -1\n",
      "해당 번호 없음.\n",
      "메뉴를 선택해주세요 1-입력, 2-조회, 3-삭제, 0-종료3\n",
      "[0]이름 : 공공  수학 : 23  과학 : 43  영어 : 54  \n",
      "[1]이름 : 공상균  수학 : 20  과학 : 30  영어 : 40  \n",
      "삭제할 번호를 입력해 주세요 : 2\n",
      "해당 번호 없음.\n",
      "메뉴를 선택해주세요 1-입력, 2-조회, 3-삭제, 0-종료3\n",
      "[0]이름 : 공공  수학 : 23  과학 : 43  영어 : 54  \n",
      "[1]이름 : 공상균  수학 : 20  과학 : 30  영어 : 40  \n",
      "삭제할 번호를 입력해 주세요 : 1\n",
      "삭제되었습니다.\n",
      "메뉴를 선택해주세요 1-입력, 2-조회, 3-삭제, 0-종료2\n",
      "[0]이름 : 공공  수학 : 23  과학 : 43  영어 : 54  \n",
      "메뉴를 선택해주세요 1-입력, 2-조회, 3-삭제, 0-종료0\n",
      "종료되었습니다.\n"
     ]
    }
   ],
   "source": [
    "import os.path\n",
    "import pickle\n",
    "\n",
    "while True:\n",
    "    temp = []\n",
    "    \n",
    "    if not os.path.isfile(\"score.pkl\"):\n",
    "        with open(\"score.pkl\", \"wb\") as file:\n",
    "            pickle.dump([[\"이름\",\"수학\",\"과학\",\"영어\"]],file)\n",
    "    else:\n",
    "        with open(\"score.pkl\", \"rb\") as file:\n",
    "            temp = pickle.load(file)\n",
    "    \n",
    "    sel = int(input(\"메뉴를 선택해주세요 1-입력, 2-조회, 3-삭제, 0-종료\"))\n",
    "    \n",
    "    if sel == 0:\n",
    "        print(\"종료되었습니다.\")\n",
    "        break   \n",
    "        \n",
    "    elif sel == 1:\n",
    "        name = input(\"이름 : \")\n",
    "        m_score = input(\"수학 : \")\n",
    "        s_score = input(\"과학 : \")\n",
    "        e_score = input(\"영어 : \")\n",
    "        temp.append([name, m_score, s_score, e_score])\n",
    "        \n",
    "        with open(\"score.pkl\", \"wb\") as file:\n",
    "            pickle.dump(temp,file)   \n",
    "        \n",
    "    elif sel ==2:\n",
    "        with open(\"score.pkl\", \"rb\") as file:\n",
    "            total_score = pickle.load(file)\n",
    "            for i in range(1, len(total_score)):\n",
    "                print(\"[{}]\".format(i-1), end =\"\")\n",
    "                for j in range(len(total_score[i])):\n",
    "                    print(total_score[0][j]+\" : \" + total_score[i][j],end = \"  \")\n",
    "                print()   \n",
    "    elif sel == 3:\n",
    "        for i in range(1, len(temp)):\n",
    "            print(\"[{}]\".format(i-1), end =\"\")\n",
    "            for j in range(len(temp[i])):\n",
    "                print(temp[0][j]+\" : \" + temp[i][j],end = \"  \")\n",
    "            print()\n",
    "        num = int(input(\"삭제할 번호를 입력해 주세요 : \"))\n",
    "        \n",
    "        if num+1 >= len(temp) or num < 0 :\n",
    "            print(\"해당 번호 없음.\")\n",
    "        else:\n",
    "            del temp[num+1]\n",
    "            with open(\"score.pkl\", \"wb\") as file:\n",
    "                pickle.dump(temp,file)\n",
    "            print(\"삭제되었습니다.\")\n",
    "        \n",
    "    else:\n",
    "        print(\"범위를 확인해주세요\")"
   ]
  },
  {
   "cell_type": "code",
   "execution_count": null,
   "metadata": {},
   "outputs": [],
   "source": []
  },
  {
   "cell_type": "code",
   "execution_count": 158,
   "metadata": {},
   "outputs": [
    {
     "name": "stdout",
     "output_type": "stream",
     "text": [
      "메뉴를 선택해주세요 1-입력 2-조회 3-삭제 0-종료:1\n",
      "이름: 김\n",
      "수학: 20\n",
      "과학: 30\n",
      "영어: 40\n",
      "메뉴를 선택해주세요 1-입력 2-조회 3-삭제 0-종료:2\n",
      "[0]이름: 공, 수학: 20, 과학: 30, 영어: 40\n",
      "\n",
      "[1]이름: 상, 수학: 20, 과학: 30, 영어: 40\n",
      "\n",
      "[2]이름: 균, 수학: 30, 과학: 40, 영어: 50\n",
      "\n",
      "[3]이름: 김, 수학: 20, 과학: 30, 영어: 40\n",
      "\n"
     ]
    },
    {
     "ename": "KeyboardInterrupt",
     "evalue": "Interrupted by user",
     "output_type": "error",
     "traceback": [
      "\u001b[1;31m---------------------------------------------------------------------------\u001b[0m",
      "\u001b[1;31mKeyboardInterrupt\u001b[0m                         Traceback (most recent call last)",
      "\u001b[1;32m<ipython-input-158-7c1c06d12d90>\u001b[0m in \u001b[0;36m<module>\u001b[1;34m\u001b[0m\n\u001b[0;32m      4\u001b[0m \u001b[1;33m\u001b[0m\u001b[0m\n\u001b[0;32m      5\u001b[0m \u001b[1;32mwhile\u001b[0m \u001b[1;32mTrue\u001b[0m\u001b[1;33m:\u001b[0m\u001b[1;33m\u001b[0m\u001b[1;33m\u001b[0m\u001b[0m\n\u001b[1;32m----> 6\u001b[1;33m     \u001b[0mmenu_input\u001b[0m \u001b[1;33m=\u001b[0m \u001b[0mint\u001b[0m\u001b[1;33m(\u001b[0m\u001b[0minput\u001b[0m\u001b[1;33m(\u001b[0m\u001b[1;34m\"메뉴를 선택해주세요 1-입력 2-조회 3-삭제 0-종료:\"\u001b[0m\u001b[1;33m)\u001b[0m\u001b[1;33m)\u001b[0m\u001b[1;33m\u001b[0m\u001b[1;33m\u001b[0m\u001b[0m\n\u001b[0m\u001b[0;32m      7\u001b[0m \u001b[1;33m\u001b[0m\u001b[0m\n\u001b[0;32m      8\u001b[0m     \u001b[0mdata_list\u001b[0m \u001b[1;33m=\u001b[0m \u001b[1;33m[\u001b[0m\u001b[1;33m]\u001b[0m\u001b[1;33m\u001b[0m\u001b[1;33m\u001b[0m\u001b[0m\n",
      "\u001b[1;32m~\\anaconda3\\envs\\aclass\\lib\\site-packages\\ipykernel\\kernelbase.py\u001b[0m in \u001b[0;36mraw_input\u001b[1;34m(self, prompt)\u001b[0m\n\u001b[0;32m    861\u001b[0m             \u001b[0mself\u001b[0m\u001b[1;33m.\u001b[0m\u001b[0m_parent_ident\u001b[0m\u001b[1;33m,\u001b[0m\u001b[1;33m\u001b[0m\u001b[1;33m\u001b[0m\u001b[0m\n\u001b[0;32m    862\u001b[0m             \u001b[0mself\u001b[0m\u001b[1;33m.\u001b[0m\u001b[0m_parent_header\u001b[0m\u001b[1;33m,\u001b[0m\u001b[1;33m\u001b[0m\u001b[1;33m\u001b[0m\u001b[0m\n\u001b[1;32m--> 863\u001b[1;33m             \u001b[0mpassword\u001b[0m\u001b[1;33m=\u001b[0m\u001b[1;32mFalse\u001b[0m\u001b[1;33m,\u001b[0m\u001b[1;33m\u001b[0m\u001b[1;33m\u001b[0m\u001b[0m\n\u001b[0m\u001b[0;32m    864\u001b[0m         )\n\u001b[0;32m    865\u001b[0m \u001b[1;33m\u001b[0m\u001b[0m\n",
      "\u001b[1;32m~\\anaconda3\\envs\\aclass\\lib\\site-packages\\ipykernel\\kernelbase.py\u001b[0m in \u001b[0;36m_input_request\u001b[1;34m(self, prompt, ident, parent, password)\u001b[0m\n\u001b[0;32m    902\u001b[0m             \u001b[1;32mexcept\u001b[0m \u001b[0mKeyboardInterrupt\u001b[0m\u001b[1;33m:\u001b[0m\u001b[1;33m\u001b[0m\u001b[1;33m\u001b[0m\u001b[0m\n\u001b[0;32m    903\u001b[0m                 \u001b[1;31m# re-raise KeyboardInterrupt, to truncate traceback\u001b[0m\u001b[1;33m\u001b[0m\u001b[1;33m\u001b[0m\u001b[1;33m\u001b[0m\u001b[0m\n\u001b[1;32m--> 904\u001b[1;33m                 \u001b[1;32mraise\u001b[0m \u001b[0mKeyboardInterrupt\u001b[0m\u001b[1;33m(\u001b[0m\u001b[1;34m\"Interrupted by user\"\u001b[0m\u001b[1;33m)\u001b[0m \u001b[1;32mfrom\u001b[0m \u001b[1;32mNone\u001b[0m\u001b[1;33m\u001b[0m\u001b[1;33m\u001b[0m\u001b[0m\n\u001b[0m\u001b[0;32m    905\u001b[0m             \u001b[1;32mexcept\u001b[0m \u001b[0mException\u001b[0m \u001b[1;32mas\u001b[0m \u001b[0me\u001b[0m\u001b[1;33m:\u001b[0m\u001b[1;33m\u001b[0m\u001b[1;33m\u001b[0m\u001b[0m\n\u001b[0;32m    906\u001b[0m                 \u001b[0mself\u001b[0m\u001b[1;33m.\u001b[0m\u001b[0mlog\u001b[0m\u001b[1;33m.\u001b[0m\u001b[0mwarning\u001b[0m\u001b[1;33m(\u001b[0m\u001b[1;34m\"Invalid Message:\"\u001b[0m\u001b[1;33m,\u001b[0m \u001b[0mexc_info\u001b[0m\u001b[1;33m=\u001b[0m\u001b[1;32mTrue\u001b[0m\u001b[1;33m)\u001b[0m\u001b[1;33m\u001b[0m\u001b[1;33m\u001b[0m\u001b[0m\n",
      "\u001b[1;31mKeyboardInterrupt\u001b[0m: Interrupted by user"
     ]
    }
   ],
   "source": [
    "# 동후꺼\n",
    "import pickle\n",
    "\n",
    "\n",
    "while True:\n",
    "    menu_input = int(input(\"메뉴를 선택해주세요 1-입력 2-조회 3-삭제 0-종료:\"))\n",
    "\n",
    "    data_list = []\n",
    "\n",
    "    try:\n",
    "        with open(\"data4.pkl\", \"rb\")as file:\n",
    "            data_list = pickle.load(file)\n",
    "    except:\n",
    "        data_list = []\n",
    "\n",
    "    if menu_input == 1:\n",
    "\n",
    "        name = input(\"이름: \")\n",
    "        math_score = int(input(\"수학: \"))\n",
    "        science_score = int(input(\"과학: \"))\n",
    "        english_score = int(input(\"영어: \"))\n",
    "\n",
    "        i = len(data_list)\n",
    "\n",
    "        data_dic = {\"번호\": i, \"이름\": name, \"수학\": math_score,\n",
    "                    \"과학\": science_score, \"영어\": english_score}\n",
    "        data_list.append(data_dic)\n",
    "\n",
    "        with open(\"data4.pkl\", \"wb\")as file:\n",
    "            pickle.dump(data_list, file)\n",
    "\n",
    "    elif menu_input == 2:\n",
    "        for i in range(len(data_list)):\n",
    "            print(\"[\"+str(data_list[i][\"번호\"])+\"]\" + \"이름: \" + data_list[i][\"이름\"] + \", 수학: \" + str(data_list[i][\"수학\"]) +\n",
    "                  \", 과학: \" + str(data_list[i][\"과학\"]) + \", 영어: \" + str(data_list[i][\"영어\"])+\"\\n\")\n",
    "\n",
    "    elif menu_input == 3:\n",
    "        del_num = int(input(\"삭제할 번호를 입력해주세요: \"))\n",
    "\n",
    "        data_list.pop(del_num)\n",
    "\n",
    "        j = 0\n",
    "        for i in data_list:\n",
    "            i[\"번호\"] = j\n",
    "            j += 1\n",
    "\n",
    "        with open(\"data4.pkl\", \"wb\")as file:\n",
    "            pickle.dump(data_list, file)\n",
    "\n",
    "        print(\"삭제가 완료되었습니다.\")\n",
    "\n",
    "    elif menu_input == 0:\n",
    "        print(\"종료되었습니다.\")\n",
    "        break"
   ]
  },
  {
   "cell_type": "code",
   "execution_count": null,
   "metadata": {},
   "outputs": [],
   "source": []
  }
 ],
 "metadata": {
  "kernelspec": {
   "display_name": "Python 3",
   "language": "python",
   "name": "python3"
  },
  "language_info": {
   "codemirror_mode": {
    "name": "ipython",
    "version": 3
   },
   "file_extension": ".py",
   "mimetype": "text/x-python",
   "name": "python",
   "nbconvert_exporter": "python",
   "pygments_lexer": "ipython3",
   "version": "3.7.9"
  }
 },
 "nbformat": 4,
 "nbformat_minor": 4
}
